{
 "cells": [
  {
   "cell_type": "markdown",
   "id": "2c658467",
   "metadata": {},
   "source": [
    "# IMPORTING LIBRARIES"
   ]
  },
  {
   "cell_type": "code",
   "execution_count": null,
   "id": "fbb4b62b",
   "metadata": {},
   "outputs": [],
   "source": [
    "# For now, the libraries required for the data exploration are selected.\n",
    "# The other ones needed for different type of analysis will also be importing in relevant sections. \n",
    "\n",
    "import numpy as np\n",
    "import pandas as pd\n",
    "import os \n",
    "import seaborn as sns\n",
    "import matplotlib.pyplot as plt\n",
    "import plotly\n",
    "import pathlib\n",
    "import warnings\n",
    "warnings.filterwarnings(\"ignore\")"
   ]
  },
  {
   "cell_type": "markdown",
   "id": "809fda90",
   "metadata": {},
   "source": [
    "# DIRECTORY SELECTION"
   ]
  },
  {
   "cell_type": "code",
   "execution_count": null,
   "id": "f302d90e",
   "metadata": {},
   "outputs": [],
   "source": [
    "# The directory is determined the folder at which the databases are kept.\n",
    "\n",
    "os.getcwd()\n",
    "os.chdir(\"C:/Users/aykut/OneDrive/Masaüstü/04 - Thesis/06 - Database\")"
   ]
  },
  {
   "cell_type": "markdown",
   "id": "1276a15d",
   "metadata": {},
   "source": [
    "# UPLOADING DATA"
   ]
  },
  {
   "cell_type": "code",
   "execution_count": null,
   "id": "350bad28",
   "metadata": {},
   "outputs": [],
   "source": [
    "df_2018 = pd.read_csv(\"2018.csv\")"
   ]
  },
  {
   "cell_type": "code",
   "execution_count": null,
   "id": "5c1eb159",
   "metadata": {},
   "outputs": [],
   "source": [
    "df_2021 = pd.read_csv(\"2021.csv\")"
   ]
  },
  {
   "cell_type": "markdown",
   "id": "708ad1d5",
   "metadata": {},
   "source": [
    "# EXPLORATORY DATA ANALYSIS"
   ]
  },
  {
   "cell_type": "markdown",
   "id": "5508acf0",
   "metadata": {},
   "source": [
    "## Description of the Data"
   ]
  },
  {
   "cell_type": "code",
   "execution_count": null,
   "id": "a48ec31d",
   "metadata": {},
   "outputs": [],
   "source": [
    "df_2018.head()"
   ]
  },
  {
   "cell_type": "code",
   "execution_count": null,
   "id": "22b7d791",
   "metadata": {},
   "outputs": [],
   "source": [
    "df_2021.head()"
   ]
  },
  {
   "cell_type": "code",
   "execution_count": null,
   "id": "53c70bd5",
   "metadata": {},
   "outputs": [],
   "source": [
    "df_2018.columns"
   ]
  },
  {
   "cell_type": "code",
   "execution_count": null,
   "id": "623881c6",
   "metadata": {},
   "outputs": [],
   "source": [
    "df_2021.columns"
   ]
  },
  {
   "cell_type": "code",
   "execution_count": null,
   "id": "6c614588",
   "metadata": {},
   "outputs": [],
   "source": [
    "df_2018.describe()"
   ]
  },
  {
   "cell_type": "code",
   "execution_count": null,
   "id": "fa6dbd7e",
   "metadata": {},
   "outputs": [],
   "source": [
    "df_2021.describe()"
   ]
  },
  {
   "cell_type": "code",
   "execution_count": null,
   "id": "4d5798f5",
   "metadata": {},
   "outputs": [],
   "source": [
    "df_2018.info()"
   ]
  },
  {
   "cell_type": "code",
   "execution_count": null,
   "id": "df88af75",
   "metadata": {},
   "outputs": [],
   "source": [
    "df_2021.info()"
   ]
  },
  {
   "cell_type": "markdown",
   "id": "30e713da",
   "metadata": {},
   "source": [
    "## Missing Values"
   ]
  },
  {
   "cell_type": "code",
   "execution_count": null,
   "id": "ab22feb8",
   "metadata": {},
   "outputs": [],
   "source": [
    "df_2018.isna().sum()"
   ]
  },
  {
   "cell_type": "code",
   "execution_count": null,
   "id": "44b7393b",
   "metadata": {},
   "outputs": [],
   "source": [
    "df_2021.isna().sum()"
   ]
  },
  {
   "cell_type": "code",
   "execution_count": null,
   "id": "a4d57aef",
   "metadata": {},
   "outputs": [],
   "source": [
    "df_2018.drop_duplicates()"
   ]
  },
  {
   "cell_type": "code",
   "execution_count": null,
   "id": "59c27178",
   "metadata": {},
   "outputs": [],
   "source": [
    "df_2021.drop_duplicates()"
   ]
  },
  {
   "cell_type": "code",
   "execution_count": null,
   "id": "bfe33c3f",
   "metadata": {},
   "outputs": [],
   "source": [
    "# To visualize missing values in the dataset, the heatmaps are utilized."
   ]
  },
  {
   "cell_type": "code",
   "execution_count": null,
   "id": "a8f58ce7",
   "metadata": {},
   "outputs": [],
   "source": [
    "plt.figure(figsize = (20, 7))\n",
    "sns.set_style(\"dark\")\n",
    "sns.heatmap(df_2018.isnull())\n",
    "plt.title('Visualization of the missing values for each column', y=-0.25)\n",
    "\n",
    "plt.figure(figsize = (20, 7))\n",
    "sns.set_style(\"dark\")\n",
    "sns.heatmap(df_2021.isnull())\n",
    "plt.title('Visualization of the missing values for each column', y=-0.25)"
   ]
  },
  {
   "cell_type": "code",
   "execution_count": null,
   "id": "048dec40",
   "metadata": {},
   "outputs": [],
   "source": [
    "# It is seen that there are many missing values in the dataset. In addition, it is presumed that some of the columns are \n",
    "# not useful at all. Therefore, unnecessary columns either that will be not be included in the model or that will \n",
    "# contribute no information at all are removed. All of the columns are re-checked and named in order to ensure coherency."
   ]
  },
  {
   "cell_type": "code",
   "execution_count": null,
   "id": "5b83782a",
   "metadata": {},
   "outputs": [],
   "source": [
    "description_column = df_2021['description']\n",
    "\n",
    "df_2018.drop(['url', 'VIN', 'size', 'image_url', 'lat', 'long', 'city'], inplace=True, axis=1)\n",
    "df_2021.drop(['id', 'url', 'region_url', 'VIN', 'size', 'image_url', 'region', 'county', 'state', 'description', 'posting_date', 'lat', 'long'], inplace=True, axis=1)\n",
    "\n",
    "df_2018.rename(columns = {'make': 'model'}, inplace=True)"
   ]
  },
  {
   "cell_type": "code",
   "execution_count": null,
   "id": "a9406464",
   "metadata": {},
   "outputs": [],
   "source": [
    "# Considering of the fact that some of the columns such as \"ID\" or \"Vehicle Identification Number (VIN)\" might be only \n",
    "# the repetitions that might be the cars uploaded to the system for more than one time under different unique numbers, it\n",
    "# is thought that drop_duplicates might work after the removal of those columns. So, the columns in question are removed; \n",
    "# accordingly, the duplicates are re-checked and removed from the dataset."
   ]
  },
  {
   "cell_type": "code",
   "execution_count": null,
   "id": "4a409db7",
   "metadata": {},
   "outputs": [],
   "source": [
    "df_2018.drop_duplicates()"
   ]
  },
  {
   "cell_type": "code",
   "execution_count": null,
   "id": "25b1fd79",
   "metadata": {},
   "outputs": [],
   "source": [
    "df_2021.drop_duplicates()"
   ]
  },
  {
   "cell_type": "code",
   "execution_count": null,
   "id": "639db559",
   "metadata": {},
   "outputs": [],
   "source": [
    "# Since it is a fact that some of the columns are playing more important role than the others for the model development, \n",
    "# all the columns are re-checked.\n",
    "\n",
    "# In accordance with the importance of the columns, \n",
    "    # First, rows with missing values in \"Year\", \"Manufacturer\", Model\", \"Fuel\", \"Odometer\" and \"Transmission\" are removed\n",
    "    # since it is a fact that those are the ones playing a crucial role for price.\n",
    "    # Second, rows with concurrent missing values in all remaining columns are removed.\n",
    "    # Third, rows with at least 5 non-NA values are kept and others are removed."
   ]
  },
  {
   "cell_type": "code",
   "execution_count": null,
   "id": "5c051ffe",
   "metadata": {},
   "outputs": [],
   "source": [
    "df_2018.dropna(subset=['year', 'manufacturer', 'model', 'fuel','odometer'], axis=0, inplace=True)\n",
    "df_2018.dropna(subset=['condition', 'cylinders', 'title_status', 'transmission', 'drive', 'type', 'paint_color'], axis=0, how='all', inplace=True)\n",
    "df_2018.dropna(subset=['condition', 'cylinders', 'title_status', 'transmission', 'drive', 'type', 'paint_color'], axis=0, thresh=5, inplace=True)\n",
    "\n",
    "df_2021.dropna(subset=['year', 'manufacturer', 'model', 'fuel','odometer'], axis=0, inplace=True)\n",
    "df_2021.dropna(subset=['condition', 'cylinders', 'title_status', 'transmission', 'drive', 'type', 'paint_color'], axis=0, how='all', inplace=True)\n",
    "df_2021.dropna(subset=['condition', 'cylinders', 'title_status', 'transmission', 'drive', 'type', 'paint_color'], axis=0, thresh=5, inplace=True)"
   ]
  },
  {
   "cell_type": "code",
   "execution_count": null,
   "id": "657de7b5",
   "metadata": {},
   "outputs": [],
   "source": [
    "# At the end of this process, a maximum of 2 missing values are concurently present in a row."
   ]
  },
  {
   "cell_type": "code",
   "execution_count": null,
   "id": "fd857368",
   "metadata": {},
   "outputs": [],
   "source": [
    "# Latest status of the datasets is re-checked."
   ]
  },
  {
   "cell_type": "code",
   "execution_count": null,
   "id": "4994b861",
   "metadata": {},
   "outputs": [],
   "source": [
    "print(df_2018.shape)\n",
    "print(df_2021.shape)"
   ]
  },
  {
   "cell_type": "code",
   "execution_count": null,
   "id": "7ad08aae",
   "metadata": {},
   "outputs": [],
   "source": [
    "print(df_2018.columns)\n",
    "print(df_2021.columns)"
   ]
  },
  {
   "cell_type": "code",
   "execution_count": null,
   "id": "877e73c4",
   "metadata": {},
   "outputs": [],
   "source": [
    "# The indices are resetted."
   ]
  },
  {
   "cell_type": "code",
   "execution_count": null,
   "id": "d096c6ae",
   "metadata": {},
   "outputs": [],
   "source": [
    "df_2018 = df_2018.reset_index(drop=True)\n",
    "df_2021 = df_2021.reset_index(drop=True)"
   ]
  },
  {
   "cell_type": "code",
   "execution_count": null,
   "id": "146a77a7",
   "metadata": {},
   "outputs": [],
   "source": [
    "# Latest status of the missing values"
   ]
  },
  {
   "cell_type": "code",
   "execution_count": null,
   "id": "959d931f",
   "metadata": {},
   "outputs": [],
   "source": [
    "# 2018 Dataset"
   ]
  },
  {
   "cell_type": "code",
   "execution_count": null,
   "id": "8bf91f26",
   "metadata": {},
   "outputs": [],
   "source": [
    "fig, (ax1,ax2) = plt.subplots(1,2,figsize=(12,5))\n",
    "\n",
    "ax1.bar(df_2018.columns, df_2018.isna().sum(), color='g')\n",
    "ax1.set_ylabel('Missing values')\n",
    "ax1.set_ylim(0,df_2018.shape[0])\n",
    "ax1.tick_params('x',labelrotation=90)\n",
    "\n",
    "sns.heatmap(df_2018.isna(),yticklabels=False,cbar=False, cmap='Greens',ax=ax2)\n",
    "plt.show()"
   ]
  },
  {
   "cell_type": "code",
   "execution_count": null,
   "id": "0b1f3f92",
   "metadata": {},
   "outputs": [],
   "source": [
    "# 2021 Dataset"
   ]
  },
  {
   "cell_type": "code",
   "execution_count": null,
   "id": "646fcc96",
   "metadata": {},
   "outputs": [],
   "source": [
    "fig, (ax1,ax2) = plt.subplots(1,2,figsize=(12,5))\n",
    "\n",
    "ax1.bar(df_2021.columns, df_2021.isna().sum(), color='g')\n",
    "ax1.set_ylabel('Missing values')\n",
    "ax1.set_ylim(0,df_2021.shape[0])\n",
    "ax1.tick_params('x',labelrotation=90)\n",
    "\n",
    "sns.heatmap(df_2021.isna(),yticklabels=False,cbar=False, cmap='Greens',ax=ax2)\n",
    "plt.show()"
   ]
  },
  {
   "cell_type": "code",
   "execution_count": null,
   "id": "2acb2b88",
   "metadata": {},
   "outputs": [],
   "source": [
    "# The percentage of the missing values"
   ]
  },
  {
   "cell_type": "code",
   "execution_count": null,
   "id": "d3222548",
   "metadata": {},
   "outputs": [],
   "source": [
    "df_2018.isna().mean().round(4).mul(100).sort_values(ascending=False)"
   ]
  },
  {
   "cell_type": "code",
   "execution_count": null,
   "id": "2d2a6143",
   "metadata": {},
   "outputs": [],
   "source": [
    "df_2021.isna().mean().round(4).mul(100).sort_values(ascending=False)"
   ]
  },
  {
   "cell_type": "code",
   "execution_count": null,
   "id": "9a902c93",
   "metadata": {},
   "outputs": [],
   "source": [
    "# Saving pre-processed data"
   ]
  },
  {
   "cell_type": "code",
   "execution_count": null,
   "id": "9ac15656",
   "metadata": {},
   "outputs": [],
   "source": [
    "os.chdir(\"C:/Users/aykut/OneDrive/Masaüstü/04 - Thesis/18 - Preprocessed Data\")"
   ]
  },
  {
   "cell_type": "code",
   "execution_count": null,
   "id": "409fabe8",
   "metadata": {},
   "outputs": [],
   "source": [
    "df_2018.to_csv(\"2018.csv\", index=False)\n",
    "df_2021.to_csv(\"2021.csv\", index=False)\n",
    "description_column.to_csv(\"description_column.csv\")"
   ]
  },
  {
   "cell_type": "markdown",
   "id": "87895449",
   "metadata": {},
   "source": [
    "# FEATURES ONE BY ONE"
   ]
  },
  {
   "cell_type": "code",
   "execution_count": null,
   "id": "e840b491",
   "metadata": {},
   "outputs": [],
   "source": [
    "os.chdir(\"C:/Users/aykut/OneDrive/Masaüstü/04 - Thesis/18 - Preprocessed Data\")"
   ]
  },
  {
   "cell_type": "code",
   "execution_count": null,
   "id": "1bb21936",
   "metadata": {},
   "outputs": [],
   "source": [
    "df_2018 = pd.read_csv('2018.csv')\n",
    "df_2018 = pd.read_csv('2018.csv')\n",
    "description_column = pd.read_csv('description_column.csv')"
   ]
  },
  {
   "cell_type": "markdown",
   "id": "a32ac8a0",
   "metadata": {},
   "source": [
    "## \"DESCRIPTION\""
   ]
  },
  {
   "cell_type": "markdown",
   "id": "d2d6c612",
   "metadata": {},
   "source": [
    "### Creation of Word Cloud"
   ]
  },
  {
   "cell_type": "code",
   "execution_count": null,
   "id": "06c448e9",
   "metadata": {},
   "outputs": [],
   "source": [
    "pip install WordCloud"
   ]
  },
  {
   "cell_type": "code",
   "execution_count": null,
   "id": "b03e765b",
   "metadata": {},
   "outputs": [],
   "source": [
    "pip install PIL"
   ]
  },
  {
   "cell_type": "code",
   "execution_count": null,
   "id": "ce523f67",
   "metadata": {},
   "outputs": [],
   "source": [
    "from wordcloud import WordCloud, STOPWORDS, ImageColorGenerator\n",
    "from PIL import Image"
   ]
  },
  {
   "cell_type": "code",
   "execution_count": null,
   "id": "645d3b90",
   "metadata": {},
   "outputs": [],
   "source": [
    "df_word_set = description_column\n",
    "df_word_set = df_word_set.drop_duplicates()\n",
    "word_set = ','.join(str(x) for x in df_word_set)\n",
    "word_set.lower()"
   ]
  },
  {
   "cell_type": "code",
   "execution_count": null,
   "id": "4a165739",
   "metadata": {},
   "outputs": [],
   "source": [
    "stopwords = set(STOPWORDS)\n",
    "stopwords.update([\"nan\", \"one\", \"minutes\", \"make\", \"point\", \"crew\", \"cab\", \"carvana\", \"carvanaauto\", \"INS\", \"text\", \"money\", \n",
    "                  \"want\", \"number\", \"re\", \"lot\", \"car\", \"customer\", \"back\", \"carvanaautoMercedes\", \"finance\", \"purchase\", \"payment\", \n",
    "                  \"responsible\", \"monthly payments\", \"inspection\", \"wheel\", \"carvana\", \"Call\", \"everything\", \"made\", \"minute\", \n",
    "                  \"trade\", \"information\", \"buy\", \"question\", \"welcome\", \"sale\", \"credit\", \"put\", \n",
    "                  \"auto\", \"guarantee\", \"tax\", \"please\", \"verify\"])"
   ]
  },
  {
   "cell_type": "code",
   "execution_count": null,
   "id": "c473d07e",
   "metadata": {},
   "outputs": [],
   "source": [
    "def black_color_func(word, font_size, position,orientation,random_state=None, **kwargs):\n",
    "    return(\"hsl(0,100%, 1%)\")\n",
    "\n",
    "wordcloud_2021 = WordCloud(stopwords = stopwords, width=6000, height=4000, max_words=500, \n",
    "                      random_state=21, relative_scaling=0.5, background_color=\"white\").generate(word_set_2021)\n",
    "\n",
    "wordcloud_2021.recolor(color_func = black_color_func)"
   ]
  },
  {
   "cell_type": "code",
   "execution_count": null,
   "id": "11e0de55",
   "metadata": {},
   "outputs": [],
   "source": [
    "plt.figure(figsize=(12, 12), facecolor = None)\n",
    "plt.imshow(wordcloud_2021, interpolation=\"bilinear\")\n",
    "plt.axis('off')\n",
    "plt.tight_layout(pad = 0)"
   ]
  },
  {
   "cell_type": "markdown",
   "id": "db083082",
   "metadata": {},
   "source": [
    "### Saving"
   ]
  },
  {
   "cell_type": "code",
   "execution_count": null,
   "id": "dde9abc9",
   "metadata": {},
   "outputs": [],
   "source": [
    "os.chdir(\"C:/Users/aykut/OneDrive/Masaüstü/04 - Thesis/19 - Word Cloud\")"
   ]
  },
  {
   "cell_type": "code",
   "execution_count": null,
   "id": "92465e6d",
   "metadata": {},
   "outputs": [],
   "source": [
    "plt.savefig('word_cloud_2021.jpg')"
   ]
  },
  {
   "cell_type": "code",
   "execution_count": null,
   "id": "b6cec598",
   "metadata": {},
   "outputs": [],
   "source": [
    "os.chdir(\"C:/Users/aykut/OneDrive/Masaüstü/04 - Thesis/18 - Preprocessed Data\")"
   ]
  },
  {
   "cell_type": "markdown",
   "id": "ae6e9768",
   "metadata": {},
   "source": [
    "## \"PRICE\""
   ]
  },
  {
   "cell_type": "markdown",
   "id": "e961018e",
   "metadata": {},
   "source": [
    "### Distribution of Prices"
   ]
  },
  {
   "cell_type": "code",
   "execution_count": null,
   "id": "968aa808",
   "metadata": {},
   "outputs": [],
   "source": [
    "print(min(df_2018['price']))\n",
    "print(min(df_2021['price']))\n",
    "print(max(df_2018['price']))\n",
    "print(max(df_2021['price']))"
   ]
  },
  {
   "cell_type": "code",
   "execution_count": null,
   "id": "270aed7d",
   "metadata": {},
   "outputs": [],
   "source": [
    "ranges = []\n",
    "i = 1\n",
    "j = 0\n",
    "\n",
    "while i < 21:    \n",
    "    ranges.append(df_2018['price'].value_counts(bins=[(j + 1), (j + 5000)]))\n",
    "    j = j + 5000\n",
    "    i = i + 1\n",
    "    \n",
    "ranges.append(df_2018['price'].value_counts(bins=[100001, 4211956308]))\n",
    "\n",
    "ranges"
   ]
  },
  {
   "cell_type": "code",
   "execution_count": null,
   "id": "2c185e4c",
   "metadata": {},
   "outputs": [],
   "source": [
    "ranges = []\n",
    "i = 1\n",
    "j = 0\n",
    "\n",
    "while i < 21:    \n",
    "    ranges.append(df_2021['price'].value_counts(bins=[(j + 1), (j + 5000)]))\n",
    "    j = j + 5000\n",
    "    i = i + 1\n",
    "    \n",
    "ranges.append(df_2021['price'].value_counts(bins=[100001, 3736928712]))\n",
    "\n",
    "ranges"
   ]
  },
  {
   "cell_type": "markdown",
   "id": "e670dd21",
   "metadata": {},
   "source": [
    "### Excluding the cars valued for more than 100.000,00 USD and less than 0,00 USD"
   ]
  },
  {
   "cell_type": "code",
   "execution_count": null,
   "id": "073e4cd8",
   "metadata": {},
   "outputs": [],
   "source": [
    "# Excluding the extreme values in the dataset"
   ]
  },
  {
   "cell_type": "code",
   "execution_count": null,
   "id": "37747d49",
   "metadata": {},
   "outputs": [],
   "source": [
    "df_2018 = df_2018.drop(df_2018[df_2018.price > 100000].index)\n",
    "df_2021 = df_2021.drop(df_2021[df_2021.price > 100000].index)\n",
    "\n",
    "df_2018 = df_2018.drop(df_2018[df_2018.price <= 0].index)\n",
    "df_2021 = df_2021.drop(df_2021[df_2021.price <= 0].index)"
   ]
  },
  {
   "cell_type": "code",
   "execution_count": null,
   "id": "96ec9987",
   "metadata": {},
   "outputs": [],
   "source": [
    "# The indices are resetted."
   ]
  },
  {
   "cell_type": "code",
   "execution_count": null,
   "id": "b3a39acb",
   "metadata": {},
   "outputs": [],
   "source": [
    "df_2018 = df_2018.reset_index(drop=True)\n",
    "df_2021 = df_2021.reset_index(drop=True)"
   ]
  },
  {
   "cell_type": "markdown",
   "id": "1792cb09",
   "metadata": {},
   "source": [
    "### Outlier Analysis"
   ]
  },
  {
   "cell_type": "code",
   "execution_count": null,
   "id": "61f3440f",
   "metadata": {},
   "outputs": [],
   "source": [
    "print(min(df_2018['price']))\n",
    "print(min(df_2021['price']))\n",
    "print(max(df_2018['price']))\n",
    "print(max(df_2021['price']))"
   ]
  },
  {
   "cell_type": "code",
   "execution_count": null,
   "id": "58d6e334",
   "metadata": {
    "scrolled": false
   },
   "outputs": [],
   "source": [
    "# The Distribution of the Prices"
   ]
  },
  {
   "cell_type": "code",
   "execution_count": null,
   "id": "99258fd4",
   "metadata": {},
   "outputs": [],
   "source": [
    "fig, (ax1,ax2) = plt.subplots(1,2,figsize=(12,6))\n",
    "\n",
    "ax1.hist(df_2018.price, bins=50, color='b')\n",
    "ax1.set_ylabel('2018')\n",
    "ax1.set_xlabel('Price Ranges')\n",
    "ax1.tick_params('x',labelrotation=90)\n",
    "ax1.xaxis.set_major_locator(plt.MultipleLocator(5000))\n",
    "ax1.grid(True)\n",
    "\n",
    "ax2.hist(df_2021.price, bins=50, color='g')\n",
    "ax2.set_ylabel('2021')\n",
    "ax2.set_xlabel('Price Ranges')\n",
    "ax2.tick_params('x',labelrotation=90)\n",
    "ax2.xaxis.set_major_locator(plt.MultipleLocator(5000))\n",
    "ax2.grid(True)\n",
    "\n",
    "plt.show()"
   ]
  },
  {
   "cell_type": "code",
   "execution_count": null,
   "id": "4b492f7f",
   "metadata": {},
   "outputs": [],
   "source": [
    "# As seen from the graphs, the data is not normally distributed; therefore, there is no need to apply shapiro-wilks test\n",
    "# to decide whether the data is normally distributed or not. However, by using one of the transformation technique, the\n",
    "# normality can be achieved."
   ]
  },
  {
   "cell_type": "code",
   "execution_count": null,
   "id": "fa3d7967",
   "metadata": {},
   "outputs": [],
   "source": [
    "from scipy.stats import boxcox\n",
    "from scipy import stats"
   ]
  },
  {
   "cell_type": "code",
   "execution_count": null,
   "id": "a1ad400c",
   "metadata": {},
   "outputs": [],
   "source": [
    "df_2018['price_box_cox'], lmbda = boxcox(df_2018['price'], lmbda = None)"
   ]
  },
  {
   "cell_type": "code",
   "execution_count": null,
   "id": "dd5e8730",
   "metadata": {},
   "outputs": [],
   "source": [
    "df_2021['price_box_cox'], lmbda = boxcox(df_2021['price'], lmbda = None)"
   ]
  },
  {
   "cell_type": "code",
   "execution_count": null,
   "id": "4126fcab",
   "metadata": {},
   "outputs": [],
   "source": [
    "fig, (ax1,ax2) = plt.subplots(1,2,figsize=(12,6))\n",
    "\n",
    "ax1.hist(df_2018.price_box_cox, bins=50, color='b')\n",
    "ax1.set_ylabel('2018')\n",
    "ax1.set_xlabel('Price Ranges')\n",
    "ax1.tick_params('x',labelrotation=90)\n",
    "ax1.grid(True)\n",
    "\n",
    "ax2.hist(df_2021.price_box_cox, bins=50, color='g')\n",
    "ax2.set_ylabel('2021')\n",
    "ax2.set_xlabel('Price Ranges')\n",
    "ax2.tick_params('x',labelrotation=90)\n",
    "ax2.grid(True)\n",
    "\n",
    "plt.show()"
   ]
  },
  {
   "cell_type": "code",
   "execution_count": null,
   "id": "b274a9e0",
   "metadata": {},
   "outputs": [],
   "source": [
    "fig, (ax1, ax2) = plt.subplots(1,2,figsize=(12,6))\n",
    "\n",
    "sns.distplot(df_2018['price_box_cox'], ax = ax1)\n",
    "sns.distplot(df_2021['price_box_cox'], ax = ax2)\n",
    "\n",
    "fig.show()"
   ]
  },
  {
   "cell_type": "code",
   "execution_count": null,
   "id": "a11ac117",
   "metadata": {},
   "outputs": [],
   "source": [
    "fig, (ax1, ax2) = plt.subplots(1,2,figsize=(12,6))\n",
    "\n",
    "stats.probplot(df_2018['price_box_cox'], dist=\"norm\", plot = ax1)\n",
    "stats.probplot(df_2021['price_box_cox'], dist=\"norm\", plot = ax2)\n",
    "\n",
    "fig.show()"
   ]
  },
  {
   "cell_type": "code",
   "execution_count": null,
   "id": "31293010",
   "metadata": {},
   "outputs": [],
   "source": [
    "# It seems that the data is presumably normal; therefore, the data can be standardized to be processed \n",
    "# for eliminating the outliers."
   ]
  },
  {
   "cell_type": "code",
   "execution_count": null,
   "id": "c69c983d",
   "metadata": {},
   "outputs": [],
   "source": [
    "df_2018['z_scores'] = np.abs(stats.zscore(df_2018['price_box_cox']))"
   ]
  },
  {
   "cell_type": "code",
   "execution_count": null,
   "id": "c8345a89",
   "metadata": {},
   "outputs": [],
   "source": [
    "df_2021['z_scores'] = np.abs(stats.zscore(df_2021['price_box_cox']))"
   ]
  },
  {
   "cell_type": "code",
   "execution_count": null,
   "id": "5446c715",
   "metadata": {},
   "outputs": [],
   "source": [
    "df_2018 = df_2018.drop(df_2018[df_2018.z_scores < -2].index)"
   ]
  },
  {
   "cell_type": "code",
   "execution_count": null,
   "id": "33755770",
   "metadata": {},
   "outputs": [],
   "source": [
    "df_2021 = df_2021.drop(df_2021[df_2021.z_scores < -2].index)"
   ]
  },
  {
   "cell_type": "code",
   "execution_count": null,
   "id": "5d339a5d",
   "metadata": {},
   "outputs": [],
   "source": [
    "df_2018 = df_2018.drop(df_2018[df_2018.z_scores > 2].index)"
   ]
  },
  {
   "cell_type": "code",
   "execution_count": null,
   "id": "a5827d26",
   "metadata": {},
   "outputs": [],
   "source": [
    "df_2021 = df_2021.drop(df_2021[df_2021.z_scores > 2].index)"
   ]
  },
  {
   "cell_type": "markdown",
   "id": "7fe8feab",
   "metadata": {},
   "source": [
    "### Checking Datasets"
   ]
  },
  {
   "cell_type": "code",
   "execution_count": null,
   "id": "bc79e7b2",
   "metadata": {},
   "outputs": [],
   "source": [
    "print(min(df_2018['price']))\n",
    "print(min(df_2021['price']))\n",
    "print(max(df_2018['price']))\n",
    "print(max(df_2021['price']))"
   ]
  },
  {
   "cell_type": "code",
   "execution_count": null,
   "id": "4803da57",
   "metadata": {
    "scrolled": true
   },
   "outputs": [],
   "source": [
    "print(df_2018.shape)\n",
    "print(df_2021.shape)"
   ]
  },
  {
   "cell_type": "code",
   "execution_count": null,
   "id": "d05f1903",
   "metadata": {},
   "outputs": [],
   "source": [
    "df_2018.columns"
   ]
  },
  {
   "cell_type": "code",
   "execution_count": null,
   "id": "e885a41d",
   "metadata": {},
   "outputs": [],
   "source": [
    "df_2021.columns"
   ]
  },
  {
   "cell_type": "code",
   "execution_count": null,
   "id": "cb87d45b",
   "metadata": {},
   "outputs": [],
   "source": [
    "df_2018.drop(['price_box_cox', 'z_scores'], inplace=True, axis=1)\n",
    "df_2021.drop(['price_box_cox', 'z_scores'], inplace=True, axis=1)"
   ]
  },
  {
   "cell_type": "markdown",
   "id": "96cb3d01",
   "metadata": {},
   "source": [
    "## \"YEARS\""
   ]
  },
  {
   "cell_type": "markdown",
   "id": "38113872",
   "metadata": {},
   "source": [
    "### Distribution of Years"
   ]
  },
  {
   "cell_type": "code",
   "execution_count": null,
   "id": "55c592c1",
   "metadata": {},
   "outputs": [],
   "source": [
    "df_2018['year']=pd.to_datetime(df_2018['year'],errors='ignore',format='%y')"
   ]
  },
  {
   "cell_type": "code",
   "execution_count": null,
   "id": "dd3c98a6",
   "metadata": {},
   "outputs": [],
   "source": [
    "plt.figure(figsize=(16,6))\n",
    "sns.countplot(x='year',data=df_2018,palette='Blues',dodge=False)\n",
    "plt.title('Year Distribution for 2018')\n",
    "plt.tick_params(labelsize=12)\n",
    "plt.xticks(fontsize=9,rotation=90)\n",
    "plt.tick_params(axis='y', labelleft=False, labelright=True)\n",
    "plt.show()"
   ]
  },
  {
   "cell_type": "code",
   "execution_count": null,
   "id": "7ed2665f",
   "metadata": {},
   "outputs": [],
   "source": [
    "df_2021['year']=pd.to_datetime(df_2021['year'],errors='ignore',format='%y')"
   ]
  },
  {
   "cell_type": "code",
   "execution_count": null,
   "id": "d49bfd5f",
   "metadata": {},
   "outputs": [],
   "source": [
    "plt.figure(figsize=(16,6))\n",
    "sns.countplot(x='year',data=df_2021,palette='Blues',dodge=False)\n",
    "plt.title('Year Distribution for 2021')\n",
    "plt.tick_params(labelsize=12)\n",
    "plt.xticks(fontsize=9,rotation=90)\n",
    "plt.tick_params(axis='y', labelleft=False, labelright=True)\n",
    "plt.show()"
   ]
  },
  {
   "cell_type": "markdown",
   "id": "99494a67",
   "metadata": {},
   "source": [
    "### Disregarding Outliers"
   ]
  },
  {
   "cell_type": "code",
   "execution_count": null,
   "id": "f39ae590",
   "metadata": {},
   "outputs": [],
   "source": [
    "df_2018['year'].value_counts().sort_values()\n",
    "df_2021['year'].value_counts().sort_values()"
   ]
  },
  {
   "cell_type": "code",
   "execution_count": null,
   "id": "a058b2d9",
   "metadata": {},
   "outputs": [],
   "source": [
    "# It seems that there are some extreme values in the dataset. They are removed."
   ]
  },
  {
   "cell_type": "code",
   "execution_count": null,
   "id": "a98a5337",
   "metadata": {},
   "outputs": [],
   "source": [
    "df_2018 = df_2018.drop(df_2018['year'].loc[df_2018['year']==302].index)\n",
    "df_2018 = df_2018.drop(df_2018['year'].loc[df_2018['year']==718].index)\n",
    "df_2018 = df_2018.drop(df_2018['year'].loc[df_2018['year']==1553].index)\n",
    "df_2018 = df_2018.drop(df_2018['year'].loc[df_2018['year']==1740].index)\n",
    "df_2018 = df_2018.drop(df_2018['year'].loc[df_2018['year']==1796].index)\n",
    "df_2018 = df_2018.drop(df_2018['year'].loc[df_2018['year']==1813].index)"
   ]
  },
  {
   "cell_type": "markdown",
   "id": "0d6e864f",
   "metadata": {},
   "source": [
    "### Creation of The Age Column"
   ]
  },
  {
   "cell_type": "code",
   "execution_count": null,
   "id": "1713ded5",
   "metadata": {},
   "outputs": [],
   "source": [
    "# Knowig the fact that numeric data can be much easier to be dealt with, the age column are created \n",
    "# since year column is ordinal."
   ]
  },
  {
   "cell_type": "code",
   "execution_count": null,
   "id": "f9f38b08",
   "metadata": {},
   "outputs": [],
   "source": [
    "df_2018['car_age'] = 2018 - (df_2018['year']-1)\n",
    "df_2021['car_age'] = 2021 - (df_2021['year']-1)"
   ]
  },
  {
   "cell_type": "code",
   "execution_count": null,
   "id": "626127f7",
   "metadata": {},
   "outputs": [],
   "source": [
    "# Rechecking the distribution"
   ]
  },
  {
   "cell_type": "code",
   "execution_count": null,
   "id": "3a0fc27f",
   "metadata": {
    "scrolled": false
   },
   "outputs": [],
   "source": [
    "plt.figure(figsize=(16,6))\n",
    "sns.countplot(x='car_age',data=df_2018, color='Yellow',dodge=False)\n",
    "plt.title('Age Distribution for 2018')\n",
    "plt.tick_params(labelsize=12)\n",
    "plt.xticks(fontsize=9,rotation=90)\n",
    "plt.tick_params(axis='y', labelleft=False, labelright=True)\n",
    "plt.show()"
   ]
  },
  {
   "cell_type": "code",
   "execution_count": null,
   "id": "1ba3fa68",
   "metadata": {},
   "outputs": [],
   "source": [
    "plt.figure(figsize=(16,6))\n",
    "sns.countplot(x='car_age',data=df_2021,color='Black',dodge=False)\n",
    "plt.title('Age Distribution for 2021')\n",
    "plt.tick_params(labelsize=12)\n",
    "plt.xticks(fontsize=9,rotation=90)\n",
    "plt.tick_params(axis='y', labelleft=False, labelright=True)\n",
    "plt.show()"
   ]
  },
  {
   "cell_type": "code",
   "execution_count": null,
   "id": "7f0b6ed1",
   "metadata": {},
   "outputs": [],
   "source": [
    "# Disregarding the cars that are older than 25 years. In addition, knowing the fact that this analysis is built upon \n",
    "# \"used car\" terminology, the cars that are younger than 1 year old are also removed from the dataset.  "
   ]
  },
  {
   "cell_type": "code",
   "execution_count": null,
   "id": "bf08ee39",
   "metadata": {},
   "outputs": [],
   "source": [
    "df_2018 = df_2018.loc[~(df_2018.car_age >= 25)]\n",
    "df_2021 = df_2021.loc[~(df_2021.car_age >= 25)]"
   ]
  },
  {
   "cell_type": "code",
   "execution_count": null,
   "id": "f97da77b",
   "metadata": {},
   "outputs": [],
   "source": [
    "df_2018 = df_2018.loc[~(df_2018.car_age < 1)]\n",
    "df_2021 = df_2021.loc[~(df_2021.car_age < 1)]"
   ]
  },
  {
   "cell_type": "code",
   "execution_count": null,
   "id": "baf6af2e",
   "metadata": {},
   "outputs": [],
   "source": [
    "df_2018['car_age'] = pd.to_numeric(df_2018['car_age'])\n",
    "df_2021['car_age'] = pd.to_numeric(df_2021['car_age'])"
   ]
  },
  {
   "cell_type": "code",
   "execution_count": null,
   "id": "c304b22c",
   "metadata": {},
   "outputs": [],
   "source": [
    "df_2018.drop(['year'], inplace=True, axis=1)\n",
    "df_2021.drop(['year'], inplace=True, axis=1)"
   ]
  },
  {
   "cell_type": "code",
   "execution_count": null,
   "id": "d7255ad3",
   "metadata": {},
   "outputs": [],
   "source": [
    "print(df_2018.shape)\n",
    "print(df_2021.shape)"
   ]
  },
  {
   "cell_type": "markdown",
   "id": "8f3dc540",
   "metadata": {},
   "source": [
    "## \"MANUFACTURER\""
   ]
  },
  {
   "cell_type": "markdown",
   "id": "7ee69c5c",
   "metadata": {},
   "source": [
    "### Determination of the number of the manufacturers in the market"
   ]
  },
  {
   "cell_type": "code",
   "execution_count": null,
   "id": "1e4c43bf",
   "metadata": {},
   "outputs": [],
   "source": [
    "df_2018['manufacturer'].value_counts().sort_values()\n",
    "df_2021['manufacturer'].value_counts().sort_values()"
   ]
  },
  {
   "cell_type": "code",
   "execution_count": null,
   "id": "9543fc20",
   "metadata": {},
   "outputs": [],
   "source": [
    "plt.figure(figsize = (16, 5))\n",
    "sns.countplot(df_2018['manufacturer'],saturation=5)\n",
    "plt.title('Number of Cars of Each Manufacturer', y=-0.23)\n",
    "plt.xticks(rotation=90)"
   ]
  },
  {
   "cell_type": "code",
   "execution_count": null,
   "id": "ac4548ea",
   "metadata": {},
   "outputs": [],
   "source": [
    "plt.figure(figsize = (16, 5))\n",
    "sns.countplot(df_2021['manufacturer'],saturation=5)\n",
    "plt.title('Number of Cars of Each Manufacturer', y=-0.23)\n",
    "plt.xticks(rotation=90)"
   ]
  },
  {
   "cell_type": "code",
   "execution_count": null,
   "id": "f864b8c9",
   "metadata": {},
   "outputs": [],
   "source": [
    "cat_col_2018 = ['manufacturer']\n",
    "for i in cat_col_2018:\n",
    "    print(df_2018[i].unique())\n",
    "    \n",
    "cat_col_2021 = ['manufacturer']\n",
    "for i in cat_col_2021:\n",
    "    print(df_2021[i].unique())"
   ]
  },
  {
   "cell_type": "markdown",
   "id": "d5ec50ba",
   "metadata": {},
   "source": [
    "### Standardization of the Manufacturer"
   ]
  },
  {
   "cell_type": "code",
   "execution_count": null,
   "id": "69dbf535",
   "metadata": {},
   "outputs": [],
   "source": [
    "# It is seen that some of the manufacturers are written under different names. Therefore, they are fixed."
   ]
  },
  {
   "cell_type": "code",
   "execution_count": null,
   "id": "a2f75fad",
   "metadata": {},
   "outputs": [],
   "source": [
    "df_2018['manufacturer'].replace(to_replace = 'vw', value='volkswagen',inplace=True)\n",
    "df_2018['manufacturer'].replace(to_replace = 'mercedesbenz', value='mercedes-benz',inplace=True)\n",
    "df_2018['manufacturer'].replace(to_replace = 'mercedes', value='mercedes-benz',inplace=True)\n",
    "df_2018['manufacturer'].replace(to_replace = 'infinity', value='infiniti',inplace=True)\n",
    "df_2018['manufacturer'].replace(to_replace = 'harley', value='harley-davidson',inplace=True)\n",
    "df_2018['manufacturer'].replace(to_replace = 'chev', value='chevy',inplace=True)"
   ]
  },
  {
   "cell_type": "code",
   "execution_count": null,
   "id": "3973345b",
   "metadata": {},
   "outputs": [],
   "source": [
    "print(df_2018.shape)\n",
    "print(df_2021.shape)"
   ]
  },
  {
   "cell_type": "markdown",
   "id": "745819b4",
   "metadata": {},
   "source": [
    "## \"MODEL\""
   ]
  },
  {
   "cell_type": "markdown",
   "id": "8933ac90",
   "metadata": {},
   "source": [
    "### Determination of the number of the models in the market"
   ]
  },
  {
   "cell_type": "code",
   "execution_count": null,
   "id": "b34ba0d7",
   "metadata": {},
   "outputs": [],
   "source": [
    "df_2018['model'].value_counts().sort_values()\n",
    "df_2021['model'].value_counts().sort_values()"
   ]
  },
  {
   "cell_type": "code",
   "execution_count": null,
   "id": "1fb3b411",
   "metadata": {},
   "outputs": [],
   "source": [
    "cat_col_2018 = ['model']\n",
    "for i in cat_col_2018:\n",
    "    print(df_2018[i].unique())\n",
    "    \n",
    "cat_col_2021 = ['model']\n",
    "for i in cat_col_2021:\n",
    "    print(df_2021[i].unique())"
   ]
  },
  {
   "cell_type": "markdown",
   "id": "ff505b51",
   "metadata": {},
   "source": [
    "## \"ODOMETER\""
   ]
  },
  {
   "cell_type": "markdown",
   "id": "16e30980",
   "metadata": {},
   "source": [
    "### Distribution of Odometer"
   ]
  },
  {
   "cell_type": "code",
   "execution_count": null,
   "id": "865e92ae",
   "metadata": {},
   "outputs": [],
   "source": [
    "print(min(df_2018['odometer']))\n",
    "print(min(df_2021['odometer']))\n",
    "print(max(df_2018['odometer']))\n",
    "print(max(df_2021['odometer']))"
   ]
  },
  {
   "cell_type": "code",
   "execution_count": null,
   "id": "6b5f448f",
   "metadata": {},
   "outputs": [],
   "source": [
    "km_ranges_2018 = []\n",
    "i = 1\n",
    "j = 0\n",
    "\n",
    "while i < 21:    \n",
    "    km_ranges_2018.append(df_2018['odometer'].value_counts(bins=[(j + 1), (j + 50000)]))\n",
    "    j = j + 50000\n",
    "    i = i + 1\n",
    "\n",
    "km_ranges_2018.append(df_2018['odometer'].value_counts(bins=[1000001, 10000000]))    \n",
    "    \n",
    "km_ranges_2018"
   ]
  },
  {
   "cell_type": "code",
   "execution_count": null,
   "id": "1c233923",
   "metadata": {},
   "outputs": [],
   "source": [
    "km_ranges_2021 = []\n",
    "i = 1\n",
    "j = 0\n",
    "\n",
    "while i < 21:    \n",
    "    km_ranges_2021.append(df_2021['odometer'].value_counts(bins=[(j + 1), (j + 50000)]))\n",
    "    j = j + 50000\n",
    "    i = i + 1\n",
    "\n",
    "km_ranges_2021.append(df_2021['odometer'].value_counts(bins=[1000001, 10000000]))    \n",
    "    \n",
    "km_ranges_2021"
   ]
  },
  {
   "cell_type": "markdown",
   "id": "6c51de47",
   "metadata": {},
   "source": [
    "### Disregarding Outliers"
   ]
  },
  {
   "cell_type": "code",
   "execution_count": null,
   "id": "5e719abd",
   "metadata": {},
   "outputs": [],
   "source": [
    "df_2018 = df_2018.drop(df_2018[df_2018.odometer > 1000000].index)\n",
    "df_2021 = df_2021.drop(df_2021[df_2021.odometer > 1000000].index)\n",
    "\n",
    "df_2018 = df_2018.drop(df_2018[df_2018.odometer <= 0].index)\n",
    "df_2021 = df_2021.drop(df_2021[df_2021.odometer <= 0].index)"
   ]
  },
  {
   "cell_type": "code",
   "execution_count": null,
   "id": "5f4541fd",
   "metadata": {},
   "outputs": [],
   "source": [
    "fig,ax=plt.subplots(figsize=(10,6))\n",
    "df_2018.odometer.hist(bins=50)\n",
    "plt.xticks(rotation=90)\n",
    "plt.gca().xaxis.set_major_locator(plt.MultipleLocator(50000))\n",
    "\n",
    "plt.title('Odometer Distribution for 2018 Dataset')\n",
    "plt.grid(True)"
   ]
  },
  {
   "cell_type": "code",
   "execution_count": null,
   "id": "2cd3d12b",
   "metadata": {},
   "outputs": [],
   "source": [
    "fig,ax=plt.subplots(figsize=(10,6))\n",
    "df_2021.odometer.hist(bins=50)\n",
    "plt.xticks(rotation=90)\n",
    "plt.gca().xaxis.set_major_locator(plt.MultipleLocator(50000))\n",
    "\n",
    "plt.title('Odometer Distribution for 2021 Dataset')\n",
    "plt.grid(True)"
   ]
  },
  {
   "cell_type": "code",
   "execution_count": null,
   "id": "6f181ba9",
   "metadata": {},
   "outputs": [],
   "source": [
    "print(df_2018.shape)\n",
    "print(df_2021.shape)"
   ]
  },
  {
   "cell_type": "code",
   "execution_count": null,
   "id": "cb42a6a4",
   "metadata": {},
   "outputs": [],
   "source": [
    "df_2018['odometer_box_cox'], lmbda = boxcox(df_2018['odometer'], lmbda = None)"
   ]
  },
  {
   "cell_type": "code",
   "execution_count": null,
   "id": "6529837f",
   "metadata": {},
   "outputs": [],
   "source": [
    "df_2021['odometer_box_cox'], lmbda = boxcox(df_2021['odometer'], lmbda = None)"
   ]
  },
  {
   "cell_type": "code",
   "execution_count": null,
   "id": "a68f1b10",
   "metadata": {},
   "outputs": [],
   "source": [
    "fig, (ax1, ax2) = plt.subplots(1,2,figsize=(12,6))\n",
    "\n",
    "sns.distplot(df_2018['odometer_box_cox'], ax = ax1)\n",
    "sns.distplot(df_2021['odometer_box_cox'], ax = ax2)\n",
    "\n",
    "fig.show()"
   ]
  },
  {
   "cell_type": "code",
   "execution_count": null,
   "id": "82698c2f",
   "metadata": {},
   "outputs": [],
   "source": [
    "df_2018['z_scores'] = np.abs(stats.zscore(df_2018['odometer_box_cox']))"
   ]
  },
  {
   "cell_type": "code",
   "execution_count": null,
   "id": "e03fe5a8",
   "metadata": {},
   "outputs": [],
   "source": [
    "df_2021['z_scores'] = np.abs(stats.zscore(df_2021['odometer_box_cox']))"
   ]
  },
  {
   "cell_type": "code",
   "execution_count": null,
   "id": "86a7e2e1",
   "metadata": {},
   "outputs": [],
   "source": [
    "df_2018 = df_2018.drop(df_2018[df_2018.z_scores < -2.45].index)\n",
    "df_2021 = df_2021.drop(df_2021[df_2021.z_scores < -2.45].index)\n",
    "df_2018 = df_2018.drop(df_2018[df_2018.z_scores > 2.45].index)\n",
    "df_2021 = df_2021.drop(df_2021[df_2021.z_scores > 2.45].index)"
   ]
  },
  {
   "cell_type": "code",
   "execution_count": null,
   "id": "49ef47ba",
   "metadata": {},
   "outputs": [],
   "source": [
    "print(min(df_2018['odometer']))\n",
    "print(min(df_2021['odometer']))\n",
    "print(max(df_2018['odometer']))\n",
    "print(max(df_2021['odometer']))"
   ]
  },
  {
   "cell_type": "code",
   "execution_count": null,
   "id": "059c11f2",
   "metadata": {},
   "outputs": [],
   "source": [
    "print(df_2018.shape)\n",
    "print(df_2021.shape)"
   ]
  },
  {
   "cell_type": "code",
   "execution_count": null,
   "id": "01601279",
   "metadata": {},
   "outputs": [],
   "source": [
    "df_2018.columns"
   ]
  },
  {
   "cell_type": "code",
   "execution_count": null,
   "id": "b325cab2",
   "metadata": {},
   "outputs": [],
   "source": [
    "df_2021.columns"
   ]
  },
  {
   "cell_type": "code",
   "execution_count": null,
   "id": "eb1dc8aa",
   "metadata": {},
   "outputs": [],
   "source": [
    "df_2018.drop(['odometer_box_cox', 'z_scores'], inplace=True, axis=1)\n",
    "df_2021.drop(['odometer_box_cox', 'z_scores'], inplace=True, axis=1)"
   ]
  },
  {
   "cell_type": "markdown",
   "id": "635ba8ab",
   "metadata": {},
   "source": [
    "## \"CONDITION\""
   ]
  },
  {
   "cell_type": "code",
   "execution_count": null,
   "id": "24619f18",
   "metadata": {},
   "outputs": [],
   "source": [
    "df_2018['condition'].value_counts().sort_values()\n",
    "df_2021['condition'].value_counts().sort_values()"
   ]
  },
  {
   "cell_type": "code",
   "execution_count": null,
   "id": "58765b5f",
   "metadata": {},
   "outputs": [],
   "source": [
    "print(df_2018['condition'].unique())\n",
    "print(df_2021['condition'].unique())"
   ]
  },
  {
   "cell_type": "code",
   "execution_count": null,
   "id": "712a5b31",
   "metadata": {},
   "outputs": [],
   "source": [
    "plt.figure(figsize = (16, 5))\n",
    "sns.countplot(df_2018['condition'],saturation=5)\n",
    "plt.title('Number of Cars of Each Condition for 2018', y=-0.23)\n",
    "\n",
    "plt.figure(figsize = (16, 5))\n",
    "sns.countplot(df_2021['condition'],saturation=5)\n",
    "plt.title('Number of Cars of Each Condition for 2021', y=-0.23)"
   ]
  },
  {
   "cell_type": "code",
   "execution_count": null,
   "id": "e7b82114",
   "metadata": {},
   "outputs": [],
   "source": [
    "Probabilities_Condition_2018 = pd.DataFrame(list(df_2018.condition.value_counts(normalize=True).items()),columns = ['Condition','Probabilities'])\n",
    "Probabilities_Condition_2018\n",
    "\n",
    "Probabilities_Condition_2021 = pd.DataFrame(list(df_2021.condition.value_counts(normalize=True).items()),columns = ['Condition','Probabilities'])\n",
    "Probabilities_Condition_2021"
   ]
  },
  {
   "cell_type": "code",
   "execution_count": null,
   "id": "48acae2d",
   "metadata": {},
   "outputs": [],
   "source": [
    "df_2018.loc[df_2018.condition.isna(), 'condition'] = np.random.choice(Probabilities_Condition_2018.Condition, \n",
    "                                                size=df_2018.condition.isna().sum(),\n",
    "                                                replace=True, \n",
    "                                                p=Probabilities_Condition_2018.Probabilities)\n",
    "\n",
    "df_2021.loc[df_2021.condition.isna(), 'condition'] = np.random.choice(Probabilities_Condition_2021.Condition, \n",
    "                                                size=df_2021.condition.isna().sum(),\n",
    "                                                replace=True, \n",
    "                                                p=Probabilities_Condition_2021.Probabilities)"
   ]
  },
  {
   "cell_type": "markdown",
   "id": "2d83d956",
   "metadata": {},
   "source": [
    "## \"CYLINDERS\""
   ]
  },
  {
   "cell_type": "code",
   "execution_count": null,
   "id": "83fd4a12",
   "metadata": {},
   "outputs": [],
   "source": [
    "df_2018['cylinders'].value_counts().sort_values()\n",
    "df_2021['cylinders'].value_counts().sort_values()"
   ]
  },
  {
   "cell_type": "code",
   "execution_count": null,
   "id": "f78c4795",
   "metadata": {},
   "outputs": [],
   "source": [
    "print(df_2018['cylinders'].unique())\n",
    "print(df_2021['cylinders'].unique())"
   ]
  },
  {
   "cell_type": "code",
   "execution_count": null,
   "id": "106c9aa8",
   "metadata": {},
   "outputs": [],
   "source": [
    "plt.figure(figsize = (16, 5))\n",
    "sns.countplot(df_2018['cylinders'],saturation=5)\n",
    "plt.title('Number of Cars of Each Cylinder for 2018', y=-0.23)\n",
    "\n",
    "plt.figure(figsize = (16, 5))\n",
    "sns.countplot(df_2021['cylinders'],saturation=5)\n",
    "plt.title('Number of Cars of Each Cylinder for 2021', y=-0.23)"
   ]
  },
  {
   "cell_type": "code",
   "execution_count": null,
   "id": "8fed54f4",
   "metadata": {},
   "outputs": [],
   "source": [
    "df_2018.cylinders.replace(\"other\",np.nan,inplace=True)\n",
    "df_2018.cylinders.value_counts()\n",
    "\n",
    "df_2021.cylinders.replace(\"other\",np.nan,inplace=True)\n",
    "df_2021.cylinders.value_counts()"
   ]
  },
  {
   "cell_type": "code",
   "execution_count": null,
   "id": "06100790",
   "metadata": {},
   "outputs": [],
   "source": [
    "Probabilities_Cylinders_2018 = pd.DataFrame(list(df_2018.cylinders.value_counts(normalize=True).items()),columns = ['Cylinders','Probabilities'])\n",
    "Probabilities_Cylinders_2018\n",
    "\n",
    "Probabilities_Cylinders_2021 = pd.DataFrame(list(df_2021.cylinders.value_counts(normalize=True).items()),columns = ['Cylinders','Probabilities'])\n",
    "Probabilities_Cylinders_2021"
   ]
  },
  {
   "cell_type": "code",
   "execution_count": null,
   "id": "304fa279",
   "metadata": {},
   "outputs": [],
   "source": [
    "df_2018.loc[df_2018.cylinders.isna(), 'cylinders'] = np.random.choice(Probabilities_Cylinders_2018.Cylinders, \n",
    "                                                size=df_2018.cylinders.isna().sum(),\n",
    "                                                replace=True, \n",
    "                                                p=Probabilities_Cylinders_2018.Probabilities)\n",
    "\n",
    "df_2021.loc[df_2021.cylinders.isna(), 'cylinders'] = np.random.choice(Probabilities_Cylinders_2021.Cylinders, \n",
    "                                                size=df_2021.cylinders.isna().sum(),\n",
    "                                                replace=True, \n",
    "                                                p=Probabilities_Cylinders_2021.Probabilities)"
   ]
  },
  {
   "cell_type": "code",
   "execution_count": null,
   "id": "7e861f80",
   "metadata": {},
   "outputs": [],
   "source": [
    "df_2018['cylinders'] = df_2018['cylinders'].apply(lambda x:x.split(' ')[0])\n",
    "df_2021['cylinders'] = df_2021['cylinders'].apply(lambda x:x.split(' ')[0])\n",
    "\n",
    "df_2018['cylinders'] = df_2018['cylinders'].astype('int')\n",
    "df_2021['cylinders'] = df_2021['cylinders'].astype('int')\n",
    "\n",
    "df_2018['cylinders'].dtype\n",
    "df_2021['cylinders'].dtype"
   ]
  },
  {
   "cell_type": "markdown",
   "id": "45f31cf1",
   "metadata": {},
   "source": [
    "## \"FUEL\""
   ]
  },
  {
   "cell_type": "code",
   "execution_count": null,
   "id": "dcae1d86",
   "metadata": {},
   "outputs": [],
   "source": [
    "df_2018['fuel'].value_counts().sort_values()\n",
    "df_2021['fuel'].value_counts().sort_values()"
   ]
  },
  {
   "cell_type": "code",
   "execution_count": null,
   "id": "ed1ef61b",
   "metadata": {},
   "outputs": [],
   "source": [
    "print(df_2018['fuel'].unique())\n",
    "print(df_2021['fuel'].unique())"
   ]
  },
  {
   "cell_type": "code",
   "execution_count": null,
   "id": "18812a98",
   "metadata": {},
   "outputs": [],
   "source": [
    "plt.figure(figsize = (16, 5))\n",
    "sns.countplot(df_2018['fuel'],saturation=5)\n",
    "plt.title('Number of Cars of Each Fuel Type for 2018', y=-0.23)\n",
    "\n",
    "plt.figure(figsize = (16, 5))\n",
    "sns.countplot(df_2021['fuel'],saturation=5)\n",
    "plt.title('Number of Cars of Each Fuel Type for 2021', y=-0.23)"
   ]
  },
  {
   "cell_type": "code",
   "execution_count": null,
   "id": "d6fb97f2",
   "metadata": {},
   "outputs": [],
   "source": [
    "Probabilities_Fuel_2018 = pd.DataFrame(list(df_2018.fuel.value_counts(normalize=True).items()),columns = ['Fuel','Probabilities'])\n",
    "Probabilities_Fuel_2018"
   ]
  },
  {
   "cell_type": "code",
   "execution_count": null,
   "id": "12d881cf",
   "metadata": {},
   "outputs": [],
   "source": [
    "Probabilities_Fuel_2021 = pd.DataFrame(list(df_2021.fuel.value_counts(normalize=True).items()),columns = ['Fuel','Probabilities'])\n",
    "Probabilities_Fuel_2021"
   ]
  },
  {
   "cell_type": "code",
   "execution_count": null,
   "id": "5ffc5804",
   "metadata": {},
   "outputs": [],
   "source": [
    "df_2018.loc[df_2018.fuel.isna(), 'fuel'] = np.random.choice(Probabilities_Fuel_2018.Fuel, \n",
    "                                                size=df_2018.fuel.isna().sum(),\n",
    "                                                replace=True, \n",
    "                                                p=Probabilities_Fuel_2018.Probabilities)"
   ]
  },
  {
   "cell_type": "code",
   "execution_count": null,
   "id": "8ad3edc2",
   "metadata": {},
   "outputs": [],
   "source": [
    "df_2021.loc[df_2021.fuel.isna(), 'fuel'] = np.random.choice(Probabilities_Fuel_2021.Fuel, \n",
    "                                                size=df_2021.fuel.isna().sum(),\n",
    "                                                replace=True, \n",
    "                                                p=Probabilities_Fuel_2021.Probabilities)"
   ]
  },
  {
   "cell_type": "markdown",
   "id": "9cdf592f",
   "metadata": {},
   "source": [
    "## \"TITLE_STATUS\""
   ]
  },
  {
   "cell_type": "code",
   "execution_count": null,
   "id": "85f391b1",
   "metadata": {},
   "outputs": [],
   "source": [
    "df_2018['title_status'].value_counts().sort_values()\n",
    "df_2021['title_status'].value_counts().sort_values()"
   ]
  },
  {
   "cell_type": "code",
   "execution_count": null,
   "id": "87cb733c",
   "metadata": {},
   "outputs": [],
   "source": [
    "print(df_2018['title_status'].unique())\n",
    "print(df_2021['title_status'].unique())"
   ]
  },
  {
   "cell_type": "code",
   "execution_count": null,
   "id": "704e46cf",
   "metadata": {},
   "outputs": [],
   "source": [
    "plt.figure(figsize = (16, 5))\n",
    "sns.countplot(df_2018['title_status'],saturation=5)\n",
    "plt.title('Number of Cars of Each Status for 2018', y=-0.23)\n",
    "\n",
    "plt.figure(figsize = (16, 5))\n",
    "sns.countplot(df_2021['title_status'],saturation=5)\n",
    "plt.title('Number of Cars of Each Status for 2021', y=-0.23)"
   ]
  },
  {
   "cell_type": "code",
   "execution_count": null,
   "id": "040c162f",
   "metadata": {},
   "outputs": [],
   "source": [
    "Probabilities_Title_Status_2018 = pd.DataFrame(list(df_2018.title_status.value_counts(normalize=True).items()),columns = ['Title_Status','Probabilities'])\n",
    "Probabilities_Title_Status_2018"
   ]
  },
  {
   "cell_type": "code",
   "execution_count": null,
   "id": "518b1b37",
   "metadata": {},
   "outputs": [],
   "source": [
    "Probabilities_Title_Status_2021 = pd.DataFrame(list(df_2021.title_status.value_counts(normalize=True).items()),columns = ['Title_Status','Probabilities'])\n",
    "Probabilities_Title_Status_2021"
   ]
  },
  {
   "cell_type": "code",
   "execution_count": null,
   "id": "30156e75",
   "metadata": {},
   "outputs": [],
   "source": [
    "df_2018.loc[df_2018.title_status.isna(), 'title_status'] = np.random.choice(Probabilities_Title_Status_2018.Title_Status, \n",
    "                                                size=df_2018.title_status.isna().sum(),\n",
    "                                                replace=True, \n",
    "                                                p=Probabilities_Title_Status_2018.Probabilities)"
   ]
  },
  {
   "cell_type": "code",
   "execution_count": null,
   "id": "3bc4a7f0",
   "metadata": {},
   "outputs": [],
   "source": [
    "df_2021.loc[df_2021.title_status.isna(), 'title_status'] = np.random.choice(Probabilities_Title_Status_2021.Title_Status, \n",
    "                                                size=df_2021.title_status.isna().sum(),\n",
    "                                                replace=True, \n",
    "                                                p=Probabilities_Title_Status_2021.Probabilities)"
   ]
  },
  {
   "cell_type": "markdown",
   "id": "e399c0b3",
   "metadata": {},
   "source": [
    "## \"TRANSMISSION\""
   ]
  },
  {
   "cell_type": "code",
   "execution_count": null,
   "id": "4a98968a",
   "metadata": {},
   "outputs": [],
   "source": [
    "df_2018['transmission'].value_counts().sort_values()\n",
    "df_2021['transmission'].value_counts().sort_values()"
   ]
  },
  {
   "cell_type": "code",
   "execution_count": null,
   "id": "86ef5de5",
   "metadata": {},
   "outputs": [],
   "source": [
    "print(df_2018['transmission'].unique())\n",
    "print(df_2021['transmission'].unique())"
   ]
  },
  {
   "cell_type": "code",
   "execution_count": null,
   "id": "5c10ad30",
   "metadata": {},
   "outputs": [],
   "source": [
    "plt.figure(figsize = (16, 5))\n",
    "sns.countplot(df_2018['transmission'],saturation=5)\n",
    "plt.title('Number of Cars of Each Transmission for 2018', y=-0.23)\n",
    "\n",
    "plt.figure(figsize = (16, 5))\n",
    "sns.countplot(df_2021['transmission'],saturation=5)\n",
    "plt.title('Number of Cars of Each Transmission for 2021', y=-0.23)"
   ]
  },
  {
   "cell_type": "code",
   "execution_count": null,
   "id": "8b90789e",
   "metadata": {},
   "outputs": [],
   "source": [
    "Probabilities_Transmission_2018 = pd.DataFrame(list(df_2018.transmission.value_counts(normalize=True).items()),columns = ['Transmission','Probabilities'])\n",
    "Probabilities_Transmission_2018"
   ]
  },
  {
   "cell_type": "code",
   "execution_count": null,
   "id": "31c3bb74",
   "metadata": {},
   "outputs": [],
   "source": [
    "Probabilities_Transmission_2021 = pd.DataFrame(list(df_2021.transmission.value_counts(normalize=True).items()),columns = ['Transmission','Probabilities'])\n",
    "Probabilities_Transmission_2021"
   ]
  },
  {
   "cell_type": "code",
   "execution_count": null,
   "id": "e00213b2",
   "metadata": {},
   "outputs": [],
   "source": [
    "df_2018.loc[df_2018.transmission.isna(), 'transmission'] = np.random.choice(Probabilities_Transmission_2018.Transmission, \n",
    "                                                size=df_2018.transmission.isna().sum(),\n",
    "                                                replace=True, \n",
    "                                                p=Probabilities_Transmission_2018.Probabilities)"
   ]
  },
  {
   "cell_type": "code",
   "execution_count": null,
   "id": "21cfa4d7",
   "metadata": {},
   "outputs": [],
   "source": [
    "df_2021.loc[df_2021.transmission.isna(), 'transmission'] = np.random.choice(Probabilities_Transmission_2021.Transmission, \n",
    "                                                size=df_2021.transmission.isna().sum(),\n",
    "                                                replace=True, \n",
    "                                                p=Probabilities_Transmission_2021.Probabilities)"
   ]
  },
  {
   "cell_type": "markdown",
   "id": "958f5420",
   "metadata": {},
   "source": [
    "## \"DRIVE\""
   ]
  },
  {
   "cell_type": "code",
   "execution_count": null,
   "id": "1d048951",
   "metadata": {},
   "outputs": [],
   "source": [
    "df_2018['drive'].value_counts().sort_values()\n",
    "df_2021['drive'].value_counts().sort_values()"
   ]
  },
  {
   "cell_type": "code",
   "execution_count": null,
   "id": "978e2f05",
   "metadata": {},
   "outputs": [],
   "source": [
    "print(df_2018['drive'].unique())\n",
    "print(df_2021['drive'].unique())"
   ]
  },
  {
   "cell_type": "code",
   "execution_count": null,
   "id": "1ff631d3",
   "metadata": {},
   "outputs": [],
   "source": [
    "plt.figure(figsize = (16, 5))\n",
    "sns.countplot(df_2018['drive'],saturation=5)\n",
    "plt.title('Number of Cars of Each Drive for 2018', y=-0.23)\n",
    "\n",
    "plt.figure(figsize = (16, 5))\n",
    "sns.countplot(df_2021['drive'],saturation=5)\n",
    "plt.title('Number of Cars of Each Drive for 2021', y=-0.23)"
   ]
  },
  {
   "cell_type": "code",
   "execution_count": null,
   "id": "5726130b",
   "metadata": {},
   "outputs": [],
   "source": [
    "Probabilities_Drive_2018 = pd.DataFrame(list(df_2018.drive.value_counts(normalize=True).items()),columns = ['Drive','Probabilities'])\n",
    "Probabilities_Drive_2018"
   ]
  },
  {
   "cell_type": "code",
   "execution_count": null,
   "id": "7f3d8eb8",
   "metadata": {},
   "outputs": [],
   "source": [
    "Probabilities_Drive_2021 = pd.DataFrame(list(df_2021.drive.value_counts(normalize=True).items()),columns = ['Drive','Probabilities'])\n",
    "Probabilities_Drive_2021"
   ]
  },
  {
   "cell_type": "code",
   "execution_count": null,
   "id": "fdcb156e",
   "metadata": {},
   "outputs": [],
   "source": [
    "df_2018.loc[df_2018.drive.isna(), 'drive'] = np.random.choice(Probabilities_Drive_2018.Drive, \n",
    "                                                size=df_2018.drive.isna().sum(),\n",
    "                                                replace=True, \n",
    "                                                p=Probabilities_Drive_2018.Probabilities)"
   ]
  },
  {
   "cell_type": "code",
   "execution_count": null,
   "id": "544214fb",
   "metadata": {},
   "outputs": [],
   "source": [
    "df_2021.loc[df_2021.drive.isna(), 'drive'] = np.random.choice(Probabilities_Drive_2021.Drive, \n",
    "                                                size=df_2021.drive.isna().sum(),\n",
    "                                                replace=True, \n",
    "                                                p=Probabilities_Drive_2021.Probabilities)"
   ]
  },
  {
   "cell_type": "markdown",
   "id": "bce4f4c6",
   "metadata": {},
   "source": [
    "## \"TYPE\""
   ]
  },
  {
   "cell_type": "code",
   "execution_count": null,
   "id": "31f457c1",
   "metadata": {},
   "outputs": [],
   "source": [
    "df_2018['type'].value_counts().sort_values()\n",
    "df_2021['type'].value_counts().sort_values()"
   ]
  },
  {
   "cell_type": "code",
   "execution_count": null,
   "id": "e75d9e98",
   "metadata": {},
   "outputs": [],
   "source": [
    "print(df_2018['type'].unique())\n",
    "print(df_2021['type'].unique())"
   ]
  },
  {
   "cell_type": "code",
   "execution_count": null,
   "id": "17584dc5",
   "metadata": {},
   "outputs": [],
   "source": [
    "plt.figure(figsize = (16, 5))\n",
    "sns.countplot(df_2018['type'],saturation=5)\n",
    "plt.title('Number of Cars of Each Type for 2018', y=-0.23)\n",
    "\n",
    "plt.figure(figsize = (16, 5))\n",
    "sns.countplot(df_2021['type'],saturation=5)\n",
    "plt.title('Number of Cars of Each Type for 2021', y=-0.23)"
   ]
  },
  {
   "cell_type": "code",
   "execution_count": null,
   "id": "afeece32",
   "metadata": {},
   "outputs": [],
   "source": [
    "Probabilities_Type_2018 = pd.DataFrame(list(df_2018.type.value_counts(normalize=True).items()),columns = ['Type','Probabilities'])\n",
    "Probabilities_Type_2018"
   ]
  },
  {
   "cell_type": "code",
   "execution_count": null,
   "id": "a3cb153e",
   "metadata": {},
   "outputs": [],
   "source": [
    "Probabilities_Type_2021 = pd.DataFrame(list(df_2021.type.value_counts(normalize=True).items()),columns = ['Type','Probabilities'])\n",
    "Probabilities_Type_2021"
   ]
  },
  {
   "cell_type": "code",
   "execution_count": null,
   "id": "6663bbad",
   "metadata": {},
   "outputs": [],
   "source": [
    "df_2018.loc[df_2018.type.isna(), 'type'] = np.random.choice(Probabilities_Type_2018.Type, \n",
    "                                                size=df_2018.type.isna().sum(),\n",
    "                                                replace=True, \n",
    "                                                p=Probabilities_Type_2018.Probabilities)"
   ]
  },
  {
   "cell_type": "code",
   "execution_count": null,
   "id": "b2ff78f7",
   "metadata": {},
   "outputs": [],
   "source": [
    "df_2021.loc[df_2021.type.isna(), 'type'] = np.random.choice(Probabilities_Type_2021.Type, \n",
    "                                                size=df_2021.type.isna().sum(),\n",
    "                                                replace=True, \n",
    "                                                p=Probabilities_Type_2021.Probabilities)"
   ]
  },
  {
   "cell_type": "markdown",
   "id": "d18433ba",
   "metadata": {},
   "source": [
    "## \"PAINT_COLOR\""
   ]
  },
  {
   "cell_type": "code",
   "execution_count": null,
   "id": "d1fc6a9e",
   "metadata": {},
   "outputs": [],
   "source": [
    "df_2018['paint_color'].value_counts().sort_values()\n",
    "df_2021['paint_color'].value_counts().sort_values()"
   ]
  },
  {
   "cell_type": "code",
   "execution_count": null,
   "id": "777d9fb0",
   "metadata": {},
   "outputs": [],
   "source": [
    "print(df_2018['paint_color'].unique())\n",
    "print(df_2021['paint_color'].unique())"
   ]
  },
  {
   "cell_type": "code",
   "execution_count": null,
   "id": "5f6cd5b4",
   "metadata": {},
   "outputs": [],
   "source": [
    "plt.figure(figsize = (16, 5))\n",
    "sns.countplot(df_2018['paint_color'],saturation=5)\n",
    "plt.title('Number of Cars of Each Color for 2018', y=-0.23)\n",
    "\n",
    "plt.figure(figsize = (16, 5))\n",
    "sns.countplot(df_2021['paint_color'],saturation=5)\n",
    "plt.title('Number of Cars of Each Color for 2021', y=-0.23)"
   ]
  },
  {
   "cell_type": "code",
   "execution_count": null,
   "id": "d161c6b2",
   "metadata": {},
   "outputs": [],
   "source": [
    "Probabilities_Paint_Color_2018 = pd.DataFrame(list(df_2018.paint_color.value_counts(normalize=True).items()),columns = ['Paint_Color','Probabilities'])\n",
    "Probabilities_Paint_Color_2018"
   ]
  },
  {
   "cell_type": "code",
   "execution_count": null,
   "id": "9904ebe6",
   "metadata": {},
   "outputs": [],
   "source": [
    "Probabilities_Paint_Color_2021 = pd.DataFrame(list(df_2021.paint_color.value_counts(normalize=True).items()),columns = ['Paint_Color','Probabilities'])\n",
    "Probabilities_Paint_Color_2021"
   ]
  },
  {
   "cell_type": "code",
   "execution_count": null,
   "id": "7c79b4a6",
   "metadata": {},
   "outputs": [],
   "source": [
    "df_2018.loc[df_2018.paint_color.isna(), 'paint_color'] = np.random.choice(Probabilities_Paint_Color_2018.Paint_Color, \n",
    "                                                size=df_2018.paint_color.isna().sum(),\n",
    "                                                replace=True, \n",
    "                                                p=Probabilities_Paint_Color_2018.Probabilities)"
   ]
  },
  {
   "cell_type": "code",
   "execution_count": null,
   "id": "7f08804b",
   "metadata": {},
   "outputs": [],
   "source": [
    "df_2021.loc[df_2021.paint_color.isna(), 'paint_color'] = np.random.choice(Probabilities_Paint_Color_2021.Paint_Color, \n",
    "                                                size=df_2021.paint_color.isna().sum(),\n",
    "                                                replace=True, \n",
    "                                                p=Probabilities_Paint_Color_2021.Probabilities)"
   ]
  },
  {
   "cell_type": "code",
   "execution_count": null,
   "id": "79c956db",
   "metadata": {},
   "outputs": [],
   "source": [
    "os.chdir(\"C:/Users/aykut/OneDrive/Masaüstü/04 - Thesis/20 - Imputed Data\")"
   ]
  },
  {
   "cell_type": "code",
   "execution_count": null,
   "id": "5907dd6a",
   "metadata": {},
   "outputs": [],
   "source": [
    "df_2018 = df_2018.reset_index(drop=True)\n",
    "df_2021 = df_2021.reset_index(drop=True)"
   ]
  },
  {
   "cell_type": "code",
   "execution_count": null,
   "id": "43bb1d64",
   "metadata": {},
   "outputs": [],
   "source": [
    "df_2018.to_csv(\"2018.csv\", index=False)\n",
    "df_2021.to_csv(\"2021.csv\", index=False)"
   ]
  },
  {
   "cell_type": "markdown",
   "id": "86ed3ff7",
   "metadata": {},
   "source": [
    "# MODEL TRAINING & TESTING"
   ]
  },
  {
   "cell_type": "code",
   "execution_count": null,
   "id": "47a447be",
   "metadata": {},
   "outputs": [],
   "source": [
    "os.chdir(\"C:/Users/aykut/OneDrive/Masaüstü/04 - Thesis/20 - Imputed Data\")"
   ]
  },
  {
   "cell_type": "code",
   "execution_count": null,
   "id": "c2479b7b",
   "metadata": {},
   "outputs": [],
   "source": [
    "df_2018 = pd.read_csv(\"2018.csv\")\n",
    "df_2021 = pd.read_csv(\"2021.csv\")"
   ]
  },
  {
   "cell_type": "code",
   "execution_count": null,
   "id": "5931dd8c",
   "metadata": {},
   "outputs": [],
   "source": [
    "pip install xgboost"
   ]
  },
  {
   "cell_type": "code",
   "execution_count": null,
   "id": "fd24a3e2",
   "metadata": {},
   "outputs": [],
   "source": [
    "pip install lightgbm"
   ]
  },
  {
   "cell_type": "code",
   "execution_count": null,
   "id": "21db4830",
   "metadata": {},
   "outputs": [],
   "source": [
    "pip install catboost"
   ]
  },
  {
   "cell_type": "code",
   "execution_count": null,
   "id": "0048d93d",
   "metadata": {},
   "outputs": [],
   "source": [
    "from sklearn.preprocessing import OrdinalEncoder\n",
    "from sklearn.preprocessing import LabelEncoder\n",
    "from sklearn.preprocessing import StandardScaler\n",
    "from sklearn.model_selection import train_test_split\n",
    "from sklearn.metrics import mean_squared_log_error\n",
    "from sklearn.metrics import mean_squared_error\n",
    "from sklearn.metrics import mean_absolute_error\n",
    "from sklearn.metrics import mean_absolute_percentage_error\n",
    "from sklearn.metrics import r2_score\n",
    "\n",
    "from xgboost import XGBRegressor\n",
    "from lightgbm import LGBMRegressor\n",
    "from catboost import CatBoostRegressor"
   ]
  },
  {
   "cell_type": "markdown",
   "id": "4587a094",
   "metadata": {},
   "source": [
    "### Relevancy between Columns"
   ]
  },
  {
   "cell_type": "code",
   "execution_count": null,
   "id": "50281635",
   "metadata": {},
   "outputs": [],
   "source": [
    "# Selection of the numerical and categorical columns\n",
    "\n",
    "numerical_df_2018 = df_2018.select_dtypes(include = np.number)\n",
    "numerical_df_2021 = df_2021.select_dtypes(include = np.number)\n",
    "\n",
    "categorical_df_2018 = df_2018.select_dtypes(include = object)\n",
    "categorical_df_2021 = df_2021.select_dtypes(include = object)"
   ]
  },
  {
   "cell_type": "code",
   "execution_count": null,
   "id": "3f5ccb8a",
   "metadata": {},
   "outputs": [],
   "source": [
    "encode_2018 = OrdinalEncoder()\n",
    "encode_2021 = OrdinalEncoder()"
   ]
  },
  {
   "cell_type": "code",
   "execution_count": null,
   "id": "abeb9fb5",
   "metadata": {},
   "outputs": [],
   "source": [
    "#place categorical columns to list and encode\n",
    "\n",
    "categorical_columns_2018 = categorical_df_2018.columns.tolist()\n",
    "categorical_columns_2021 = categorical_df_2021.columns.tolist()\n",
    "\n",
    "encode_2018.fit(categorical_df_2018[categorical_columns_2018])\n",
    "encode_2021.fit(categorical_df_2021[categorical_columns_2021])"
   ]
  },
  {
   "cell_type": "code",
   "execution_count": null,
   "id": "3ab2ea25",
   "metadata": {},
   "outputs": [],
   "source": [
    "#transform categorical encoding and place in dataframe\n",
    "\n",
    "categorical_encoded_2018 = encode_2018.transform(categorical_df_2018[categorical_columns_2018])\n",
    "categorical_encoded_2021 = encode_2021.transform(categorical_df_2021[categorical_columns_2021])\n",
    "\n",
    "categorical_encoded_2018 = pd.DataFrame(categorical_encoded_2018, columns = categorical_columns_2018)\n",
    "categorical_encoded_2021 = pd.DataFrame(categorical_encoded_2021, columns = categorical_columns_2021)"
   ]
  },
  {
   "cell_type": "code",
   "execution_count": null,
   "id": "932805cc",
   "metadata": {},
   "outputs": [],
   "source": [
    "categorical_df_2018.reset_index(inplace=True,drop=True)\n",
    "categorical_df_2021.reset_index(inplace=True,drop=True)\n",
    "\n",
    "numerical_df_2018.reset_index(inplace=True,drop=True)\n",
    "numerical_df_2021.reset_index(inplace=True,drop=True)\n",
    "\n",
    "categorical_encoded_2018.reset_index(inplace=True,drop=True)\n",
    "categorical_encoded_2021.reset_index(inplace=True,drop=True)"
   ]
  },
  {
   "cell_type": "code",
   "execution_count": null,
   "id": "e76d1dbf",
   "metadata": {},
   "outputs": [],
   "source": [
    "final_df_2018 = pd.concat([numerical_df_2018,categorical_encoded_2018],axis=1)\n",
    "final_df_2021 = pd.concat([numerical_df_2021,categorical_encoded_2021],axis=1)"
   ]
  },
  {
   "cell_type": "code",
   "execution_count": null,
   "id": "7c9b0399",
   "metadata": {},
   "outputs": [],
   "source": [
    "plt.figure(figsize=(16,8))\n",
    "sns.heatmap(data = final_df_2018.corr(),annot=True)\n",
    "\n",
    "plt.figure(figsize=(16,8))\n",
    "sns.heatmap(data = final_df_2021.corr(),annot=True)"
   ]
  },
  {
   "cell_type": "markdown",
   "id": "89dd0992",
   "metadata": {},
   "source": [
    "### Modelling Preparation"
   ]
  },
  {
   "cell_type": "code",
   "execution_count": null,
   "id": "bb662fe2",
   "metadata": {},
   "outputs": [],
   "source": [
    "labelled_df_2018 = df_2018\n",
    "labelled_df_2021 = df_2021"
   ]
  },
  {
   "cell_type": "code",
   "execution_count": null,
   "id": "eb411797",
   "metadata": {},
   "outputs": [],
   "source": [
    "le_manufacturer_2018 = LabelEncoder()\n",
    "le_manufacturer_2021 = LabelEncoder()\n",
    "\n",
    "le_model_2018 = LabelEncoder()\n",
    "le_model_2021 = LabelEncoder()\n",
    "\n",
    "le_condition_2018 = LabelEncoder()\n",
    "le_condition_2021 = LabelEncoder()\n",
    "\n",
    "le_fuel_2018 = LabelEncoder()\n",
    "le_fuel_2021 = LabelEncoder()\n",
    "\n",
    "le_title_status_2018 = LabelEncoder()\n",
    "le_title_status_2021 = LabelEncoder()\n",
    "\n",
    "le_transmission_2018 = LabelEncoder()\n",
    "le_transmission_2021 = LabelEncoder()\n",
    "\n",
    "le_drive_2018 = LabelEncoder()\n",
    "le_drive_2021 = LabelEncoder()\n",
    "\n",
    "le_type_2018 = LabelEncoder()\n",
    "le_type_2021 = LabelEncoder()\n",
    "\n",
    "le_color_2018 = LabelEncoder()\n",
    "le_color_2021 = LabelEncoder()"
   ]
  },
  {
   "cell_type": "code",
   "execution_count": null,
   "id": "992a5529",
   "metadata": {},
   "outputs": [],
   "source": [
    "labelled_df_2018[\"manufacturer\"] = le_manufacturer_2018.fit_transform(df_2018['manufacturer'])\n",
    "labelled_df_2021[\"manufacturer\"] = le_manufacturer_2021.fit_transform(df_2021['manufacturer'])\n",
    "\n",
    "labelled_df_2018[\"model\"] = le_model_2018.fit_transform(df_2018['model'])\n",
    "labelled_df_2021[\"model\"] = le_model_2021.fit_transform(df_2021['model'])\n",
    "\n",
    "labelled_df_2018[\"condition\"] = le_condition_2018.fit_transform(df_2018['condition'])\n",
    "labelled_df_2021[\"condition\"] = le_condition_2021.fit_transform(df_2021['condition'])\n",
    "\n",
    "labelled_df_2018[\"fuel\"] = le_fuel_2018.fit_transform(df_2018['fuel'])\n",
    "labelled_df_2021[\"fuel\"] = le_fuel_2021.fit_transform(df_2021['fuel'])\n",
    "\n",
    "labelled_df_2018[\"title_status\"] = le_title_status_2018.fit_transform(df_2018['title_status'])\n",
    "labelled_df_2021[\"title_status\"] = le_title_status_2021.fit_transform(df_2021['title_status'])\n",
    "\n",
    "labelled_df_2018[\"transmission\"] = le_transmission_2018.fit_transform(df_2018['transmission'])\n",
    "labelled_df_2021[\"transmission\"] = le_transmission_2021.fit_transform(df_2021['transmission'])\n",
    "\n",
    "labelled_df_2018[\"drive\"] = le_drive_2018.fit_transform(df_2018['drive'])\n",
    "labelled_df_2021[\"drive\"] = le_drive_2021.fit_transform(df_2021['drive'])\n",
    "\n",
    "labelled_df_2018[\"type\"] = le_type_2018.fit_transform(df_2018['type'])\n",
    "labelled_df_2021[\"type\"] = le_type_2021.fit_transform(df_2021['type'])\n",
    "\n",
    "labelled_df_2018[\"paint_color\"] = le_color_2018.fit_transform(df_2018['paint_color'])\n",
    "labelled_df_2021[\"paint_color\"] = le_color_2021.fit_transform(df_2021['paint_color'])"
   ]
  },
  {
   "cell_type": "code",
   "execution_count": null,
   "id": "c8cb789c",
   "metadata": {},
   "outputs": [],
   "source": [
    "X_2018 = labelled_df_2018.drop('price', axis = 1)\n",
    "Y_2018 = labelled_df_2018['price']\n",
    "\n",
    "X_2021 = labelled_df_2021.drop('price', axis = 1)\n",
    "Y_2021 = labelled_df_2021['price']"
   ]
  },
  {
   "cell_type": "code",
   "execution_count": null,
   "id": "f671f912",
   "metadata": {},
   "outputs": [],
   "source": [
    "os.chdir(\"C:/Users/aykut/OneDrive/Masaüstü/04 - Thesis/21 - Train & Test Data\")"
   ]
  },
  {
   "cell_type": "code",
   "execution_count": null,
   "id": "d81d2d05",
   "metadata": {},
   "outputs": [],
   "source": [
    "X_2018.to_csv('X_2018.csv', index = False)\n",
    "Y_2018.to_csv('Y_2018.csv', index = False)\n",
    "X_2021.to_csv('X_2021.csv', index = False)\n",
    "Y_2021.to_csv('Y_2021.csv', index = False)"
   ]
  },
  {
   "cell_type": "markdown",
   "id": "3fbe2dba",
   "metadata": {},
   "source": [
    "### Modelling"
   ]
  },
  {
   "cell_type": "code",
   "execution_count": null,
   "id": "9fdc5f57",
   "metadata": {},
   "outputs": [],
   "source": [
    "os.chdir(\"C:/Users/aykut/OneDrive/Masaüstü/04 - Thesis/21 - Train & Test Data\")"
   ]
  },
  {
   "cell_type": "code",
   "execution_count": null,
   "id": "e738253c",
   "metadata": {},
   "outputs": [],
   "source": [
    "X_2018 = pd.read_csv(\"X_2018.csv\")\n",
    "Y_2018 = pd.read_csv(\"Y_2018.csv\")\n",
    "\n",
    "X_2021 = pd.read_csv(\"X_2021.csv\")\n",
    "Y_2021 = pd.read_csv(\"Y_2021.csv\")"
   ]
  },
  {
   "cell_type": "code",
   "execution_count": null,
   "id": "804eb875",
   "metadata": {},
   "outputs": [],
   "source": [
    "Y_2018.drop(['Unnamed: 0'], inplace=True, axis=1)\n",
    "Y_2021.drop(['Unnamed: 0'], inplace=True, axis=1)\n",
    "\n",
    "X_2018.drop(['Unnamed: 0'], inplace=True, axis=1)\n",
    "X_2021.drop(['Unnamed: 0'], inplace=True, axis=1)"
   ]
  },
  {
   "cell_type": "code",
   "execution_count": null,
   "id": "1a018576",
   "metadata": {},
   "outputs": [],
   "source": [
    "X_train_2018, X_test_2018, Y_train_2018, Y_test_2018 = train_test_split(X_2018, Y_2018, test_size = 0.2, random_state = 42)\n",
    "X_train_2021, X_test_2021, Y_train_2021, Y_test_2021 = train_test_split(X_2021, Y_2021, test_size = 0.2, random_state = 42)"
   ]
  },
  {
   "cell_type": "markdown",
   "id": "a7f2c39e",
   "metadata": {},
   "source": [
    "### XGBOOST"
   ]
  },
  {
   "cell_type": "markdown",
   "id": "e185df3c",
   "metadata": {},
   "source": [
    "#### Baseline Model"
   ]
  },
  {
   "cell_type": "code",
   "execution_count": null,
   "id": "325276d0",
   "metadata": {},
   "outputs": [],
   "source": [
    "model_XGB_2018 = XGBRegressor()\n",
    "model_XGB_2021 = XGBRegressor()"
   ]
  },
  {
   "cell_type": "code",
   "execution_count": null,
   "id": "8455784d",
   "metadata": {},
   "outputs": [],
   "source": [
    "model_XGB_2018.fit(X_train_2018, Y_train_2018)\n",
    "model_XGB_2021.fit(X_train_2021, Y_train_2021)"
   ]
  },
  {
   "cell_type": "code",
   "execution_count": null,
   "id": "e27e544f",
   "metadata": {},
   "outputs": [],
   "source": [
    "predictions_test_2018 = model_XGB_2018.predict(X_test_2018)\n",
    "predictions_test_2021 = model_XGB_2021.predict(X_test_2021)"
   ]
  },
  {
   "cell_type": "code",
   "execution_count": null,
   "id": "09ff3a45",
   "metadata": {},
   "outputs": [],
   "source": [
    "predictions_train_2018 = model_XGB_2018.predict(X_train_2018)\n",
    "predictions_train_2021 = model_XGB_2021.predict(X_train_2021)"
   ]
  },
  {
   "cell_type": "code",
   "execution_count": null,
   "id": "e403eaf2",
   "metadata": {},
   "outputs": [],
   "source": [
    "MSE_test_2018 = mean_squared_error(Y_test_2018, predictions_test_2018)\n",
    "MAE_test_2018 = mean_absolute_error(Y_test_2018, predictions_test_2018)\n",
    "MAPE_test_2018 = mean_absolute_percentage_error(Y_test_2018, predictions_test_2018)\n",
    "R2_Score_test_2018 = model_XGB_2018.score(X_test_2018,Y_test_2018)\n",
    "\n",
    "MSE_test_2021 = mean_squared_error(Y_test_2021, predictions_test_2021)\n",
    "MAE_test_2021 = mean_absolute_error(Y_test_2021, predictions_test_2021)\n",
    "MAPE_test_2021 = mean_absolute_percentage_error(Y_test_2021, predictions_test_2021)\n",
    "R2_Score_test_2021 = model_XGB_2021.score(X_test_2021,Y_test_2021)\n",
    "\n",
    "MSE_train_2018 = mean_squared_error(Y_train_2018, predictions_train_2018)\n",
    "MAE_train_2018 = mean_absolute_error(Y_train_2018, predictions_train_2018)\n",
    "MAPE_train_2018 = mean_absolute_percentage_error(Y_train_2018, predictions_train_2018)\n",
    "R2_Score_train_2018 = model_XGB_2018.score(X_train_2018,Y_train_2018)\n",
    "\n",
    "MSE_train_2021 = mean_squared_error(Y_train_2021, predictions_train_2021)\n",
    "MAE_train_2021 = mean_absolute_error(Y_train_2021, predictions_train_2021)\n",
    "MAPE_train_2021 = mean_absolute_percentage_error(Y_train_2021, predictions_train_2021)\n",
    "R2_Score_train_2021 = model_XGB_2021.score(X_train_2021,Y_train_2021)"
   ]
  },
  {
   "cell_type": "code",
   "execution_count": null,
   "id": "5c5073ba",
   "metadata": {},
   "outputs": [],
   "source": [
    "print(':::::::::::::::::::::::::')\n",
    "print(':::::::::::::::::::::::::')\n",
    "print('2018 Dataset')\n",
    "print(':::::::::::::::::::::::::')\n",
    "print(':::::::::::::::::::::::::')\n",
    "print('Train Metrics')\n",
    "print(':::::::::::::::::::::::::')\n",
    "print(MSE_train_2018)\n",
    "print(MAE_train_2018)\n",
    "print(MAPE_train_2018)\n",
    "print(round(R2_Score_train_2018,4))\n",
    "print(':::::::::::::::::::::::::')\n",
    "print('Test Metrics')\n",
    "print(':::::::::::::::::::::::::')\n",
    "print(MSE_test_2018)\n",
    "print(MAE_test_2018)\n",
    "print(MAPE_test_2018)\n",
    "print(round(R2_Score_test_2018,4))\n",
    "print(':::::::::::::::::::::::::')\n",
    "print(':::::::::::::::::::::::::')\n",
    "print('2021 Dataset')\n",
    "print(':::::::::::::::::::::::::')\n",
    "print(':::::::::::::::::::::::::')\n",
    "print('Train Metrics')\n",
    "print(':::::::::::::::::::::::::')\n",
    "print(MSE_train_2021)\n",
    "print(MAE_train_2021)\n",
    "print(MAPE_train_2021)\n",
    "print(round(R2_Score_train_2021,4))\n",
    "print(':::::::::::::::::::::::::')\n",
    "print('Test Metrics')\n",
    "print(':::::::::::::::::::::::::')\n",
    "print(MSE_test_2021)\n",
    "print(MAE_test_2021)\n",
    "print(MAPE_test_2021)\n",
    "print(round(R2_Score_test_2021,4))\n",
    "print(':::::::::::::::::::::::::')\n",
    "print(':::::::::::::::::::::::::')"
   ]
  },
  {
   "cell_type": "markdown",
   "id": "c2daba4d",
   "metadata": {},
   "source": [
    "#### Hyperparameter Tuning"
   ]
  },
  {
   "cell_type": "code",
   "execution_count": null,
   "id": "b02ac4ca",
   "metadata": {},
   "outputs": [],
   "source": [
    "import xgboost as xgb\n",
    "\n",
    "from xgboost.sklearn import XGBRegressor\n",
    "from sklearn import metrics   \n",
    "from sklearn.model_selection import GridSearchCV"
   ]
  },
  {
   "cell_type": "code",
   "execution_count": null,
   "id": "09a2cc60",
   "metadata": {},
   "outputs": [],
   "source": [
    "# First, train and test sets should be converted into D-Matrix."
   ]
  },
  {
   "cell_type": "code",
   "execution_count": null,
   "id": "b2942376",
   "metadata": {},
   "outputs": [],
   "source": [
    "DMatrix_X_train_2018 = xgb.DMatrix(X_train_2018, label = Y_train_2018)\n",
    "DMatrix_X_test_2018 = xgb.DMatrix(X_test_2018, label = Y_test_2018)"
   ]
  },
  {
   "cell_type": "code",
   "execution_count": null,
   "id": "5bbe0645",
   "metadata": {},
   "outputs": [],
   "source": [
    "DMatrix_X_train_2021 = xgb.DMatrix(X_train_2021, label = Y_train_2021)\n",
    "DMatrix_X_test_2021 = xgb.DMatrix(X_test_2021, label = Y_test_2021)"
   ]
  },
  {
   "cell_type": "code",
   "execution_count": null,
   "id": "aa8d478c",
   "metadata": {},
   "outputs": [],
   "source": [
    "# Second,initial paramaters should be given. Any parameter can be selected.\n",
    "\n",
    "parameters_2018 =   {\n",
    "                    'max_depth':6,\n",
    "                    'min_child_weight': 1,\n",
    "                    'eta':.3,\n",
    "                    'objective':'reg:linear',\n",
    "                    'eval_metric':'mae'\n",
    "                    }\n",
    "\n",
    "parameters_2021 =   {\n",
    "                    'max_depth':6,\n",
    "                    'min_child_weight': 1,\n",
    "                    'eta':.3,\n",
    "                    'objective':'reg:linear',\n",
    "                    'eval_metric':'mae'\n",
    "                    }"
   ]
  },
  {
   "cell_type": "code",
   "execution_count": null,
   "id": "950ffb6c",
   "metadata": {},
   "outputs": [],
   "source": [
    "# Grid Search should be set.\n",
    "\n",
    "gridsearch_parameters_2018 = [\n",
    "    (max_depth, min_child_weight)\n",
    "    for max_depth in range(6,9)\n",
    "    for min_child_weight in range(5,8)\n",
    "]\n",
    "\n",
    "gridsearch_parameters_2021 = [\n",
    "    (max_depth, min_child_weight)\n",
    "    for max_depth in range(6,9)\n",
    "    for min_child_weight in range(5,8)\n",
    "]"
   ]
  },
  {
   "cell_type": "code",
   "execution_count": null,
   "id": "f13c26f0",
   "metadata": {},
   "outputs": [],
   "source": [
    "# Hyperparamaters process should be started by using cross-validation.\n",
    "\n",
    "MAE_Min_2018 = float(\"Inf\")\n",
    "Best_Parameters_2018 = None\n",
    "\n",
    "for max_depth, min_child_weight in gridsearch_parameters_2018:\n",
    "    print(\"CV with max_depth={}, min_child_weight={}\".format(\n",
    "                             max_depth,\n",
    "                             min_child_weight))\n",
    "    \n",
    "    parameters_2018['max_depth'] = max_depth\n",
    "    parameters_2018['min_child_weight'] = min_child_weight\n",
    "        \n",
    "    cv_results_2018 = xgb.cv(\n",
    "                            parameters_2018,\n",
    "                            DMatrix_X_train_2018,\n",
    "                            num_boost_round = num_boost_round,\n",
    "                            seed = 42,\n",
    "                            nfold = 5,\n",
    "                            metrics = {'mae'},\n",
    "                            early_stopping_rounds = 10\n",
    "                            )\n",
    "    \n",
    "    MAE_Mean_2018 = cv_results_2018['test-mae-mean'].min()\n",
    "    Boost_Rounds_2018 = cv_results_2018['test-mae-mean'].argmin()\n",
    "    \n",
    "    print(\"\\tMAE {} for {} rounds\".format(MAE_Mean_2018, Boost_Rounds_2018))\n",
    "    if MAE_Mean_2018 < MAE_Min_2018:\n",
    "        MAE_Min_2018 = MAE_Mean_2018\n",
    "        Best_Parameters_2018 = (max_depth, min_child_weight)\n",
    "        \n",
    "print(\"Best Parameters for 2018: {}, {}, MAE for 2018: {}\".format(Best_Parameters_2018[0], Best_Parameters_2018[1], MAE_Min_2018))"
   ]
  },
  {
   "cell_type": "code",
   "execution_count": null,
   "id": "61434568",
   "metadata": {},
   "outputs": [],
   "source": [
    "# Found parameters are saved.\n",
    "\n",
    "parameters_2018['max_depth'] = Best_Parameters_2018[0]\n",
    "parameters_2018['min_child_weight'] = Best_Parameters_2018[1]"
   ]
  },
  {
   "cell_type": "code",
   "execution_count": null,
   "id": "47026853",
   "metadata": {},
   "outputs": [],
   "source": [
    "# Hyperparameter process should be started by using cross-validation.\n",
    "\n",
    "MAE_Min_2021 = float(\"Inf\")\n",
    "Best_Parameters_2021 = None\n",
    "\n",
    "for max_depth, min_child_weight in gridsearch_parameters_2021:\n",
    "    print(\"CV with max_depth={}, min_child_weight={}\".format(\n",
    "                             max_depth,\n",
    "                             min_child_weight))\n",
    "    \n",
    "    parameters_2021['max_depth'] = max_depth\n",
    "    parameters_2021['min_child_weight'] = min_child_weight\n",
    "        \n",
    "    cv_results_2021 = xgb.cv(\n",
    "                            parameters_2021,\n",
    "                            DMatrix_X_train_2021,\n",
    "                            num_boost_round = num_boost_round,\n",
    "                            seed = 42,\n",
    "                            nfold = 5,\n",
    "                            metrics = {'mae'},\n",
    "                            early_stopping_rounds = 10\n",
    "                            )\n",
    "    \n",
    "    MAE_Mean_2021 = cv_results_2021['test-mae-mean'].min()\n",
    "    Boost_Rounds_2021 = cv_results_2021['test-mae-mean'].argmin()\n",
    "    \n",
    "    print(\"\\tMAE {} for {} rounds\".format(MAE_Mean_2021, Boost_Rounds_2021))\n",
    "    if MAE_Mean_2021 < MAE_Min_2021:\n",
    "        MAE_Min_2021 = MAE_Mean_2021\n",
    "        Best_Parameters_2021 = (max_depth, min_child_weight)\n",
    "        \n",
    "print(\"Best Parameters for 2021: {}, {}, MAE for 2021: {}\".format(Best_Parameters_2021[0], Best_Parameters_2021[1], MAE_Min_2021))"
   ]
  },
  {
   "cell_type": "code",
   "execution_count": null,
   "id": "0f148aca",
   "metadata": {},
   "outputs": [],
   "source": [
    "# Found parameters are saved.\n",
    "\n",
    "parameters_2021['max_depth'] = Best_Parameters_2021[0]\n",
    "parameters_2021['min_child_weight'] = Best_Parameters_2021[1]"
   ]
  },
  {
   "cell_type": "code",
   "execution_count": null,
   "id": "2502802d",
   "metadata": {},
   "outputs": [],
   "source": [
    "# Same process should also be followed for \"Learning Rate\".\n",
    "\n",
    "MAE_Min_2018 = float(\"Inf\")\n",
    "Best_Parameters_2018 = None\n",
    "for eta in [.3, .2, .1, .05, .01, .005]:\n",
    "    print(\"CV with eta={}\".format(eta))\n",
    "    \n",
    "    parameters_2018['eta'] = eta\n",
    "    \n",
    "    cv_results_2018 = xgb.cv(\n",
    "                            parameters_2018,\n",
    "                            DMatrix_X_train_2018,\n",
    "                            num_boost_round = num_boost_round,\n",
    "                            seed = 42,\n",
    "                            nfold = 5,\n",
    "                            metrics = ['mae'],\n",
    "                            early_stopping_rounds = 10\n",
    "                            )\n",
    "    \n",
    "    MAE_Mean_2018 = cv_results_2018['test-mae-mean'].min()\n",
    "    Boost_Rounds_2018 = cv_results_2018['test-mae-mean'].argmin()\n",
    "    print(\"\\tMAE {} for {} rounds\\n\".format(MAE_Mean_2018, Boost_Rounds_2018))\n",
    "    if MAE_Mean_2018 < MAE_Min_2018:\n",
    "        MAE_Min_2018 = MAE_Mean_2018\n",
    "        Best_Parameters_2018 = eta\n",
    "print(\"Best Parameters for 2018: {}, MAE for 2018: {}\".format(Best_Parameters_2018, MAE_Min_2018))"
   ]
  },
  {
   "cell_type": "code",
   "execution_count": null,
   "id": "684d787a",
   "metadata": {},
   "outputs": [],
   "source": [
    "# Same process should also be followed for \"Learning Rate\".\n",
    "\n",
    "MAE_Min_2021 = float(\"Inf\")\n",
    "Best_Parameters_2021 = None\n",
    "for eta in [.3, .2, .1, .05, .01, .005]:\n",
    "    print(\"CV with eta={}\".format(eta))\n",
    "    \n",
    "    parameters_2021['eta'] = eta\n",
    "    \n",
    "    cv_results_2021 = xgb.cv(\n",
    "                             parameters_2021,\n",
    "                             DMatrix_X_train_2021,\n",
    "                             num_boost_round = num_boost_round,\n",
    "                             seed = 42,\n",
    "                             nfold = 5,\n",
    "                             metrics = ['mae'],\n",
    "                             early_stopping_rounds = 10\n",
    "                             )\n",
    "    \n",
    "    MAE_Mean_2021 = cv_results_2021['test-mae-mean'].min()\n",
    "    Boost_Rounds_2021 = cv_results_2021['test-mae-mean'].argmin()\n",
    "    print(\"\\tMAE {} for {} rounds\\n\".format(MAE_Mean_2021, Boost_Rounds_2021))\n",
    "    if MAE_Mean_2021 < MAE_Min_2021:\n",
    "        MAE_Min_2021 = MAE_Mean_2021\n",
    "        Best_Parameters_2021 = eta\n",
    "print(\"Best Parameters for 2021: {}, MAE for 2021: {}\".format(Best_Parameters_2021, MAE_Min_2021))"
   ]
  },
  {
   "cell_type": "code",
   "execution_count": null,
   "id": "9b4b630c",
   "metadata": {},
   "outputs": [],
   "source": [
    "# After the hyperparameter tuning, below parameters have been identified."
   ]
  },
  {
   "cell_type": "code",
   "execution_count": null,
   "id": "4323878c",
   "metadata": {},
   "outputs": [],
   "source": [
    "parameters_2018 =   {\n",
    "                    'max_depth':7,\n",
    "                    'min_child_weight': 5,\n",
    "                    'eta':.3,\n",
    "                    'objective':'reg:linear',\n",
    "                    'eval_metric':'mae'\n",
    "                    }\n",
    "\n",
    "parameters_2021 =   {\n",
    "                    'max_depth':7,\n",
    "                    'min_child_weight': 6,\n",
    "                    'eta':.3,\n",
    "                    'objective':'reg:linear',\n",
    "                    'eval_metric':'mae'\n",
    "                    }"
   ]
  },
  {
   "cell_type": "markdown",
   "id": "8d0bd724",
   "metadata": {},
   "source": [
    "#### Re-Modelling"
   ]
  },
  {
   "cell_type": "code",
   "execution_count": null,
   "id": "284411dc",
   "metadata": {},
   "outputs": [],
   "source": [
    "# After the hyperparameter tuning, the models once again have been checked on test data.\n",
    "\n",
    "model_XGB_2018 = XGBRegressor(max_depth = 7, min_child_weight = 5, eta = 0.3, verbose = 0, n_estimators = 2546)\n",
    "model_XGB_2021 = XGBRegressor(max_depth = 7, min_child_weight = 6, eta = 0.3, verbose = 0, n_estimators = 3930)"
   ]
  },
  {
   "cell_type": "code",
   "execution_count": null,
   "id": "2c392135",
   "metadata": {},
   "outputs": [],
   "source": [
    "model_XGB_2018.fit(X_train_2018, Y_train_2018)\n",
    "model_XGB_2021.fit(X_train_2021, Y_train_2021)"
   ]
  },
  {
   "cell_type": "code",
   "execution_count": null,
   "id": "3fea1b7e",
   "metadata": {},
   "outputs": [],
   "source": [
    "predictions_test_2018 = model_XGB_2018.predict(X_test_2018)\n",
    "predictions_test_2021 = model_XGB_2021.predict(X_test_2021)"
   ]
  },
  {
   "cell_type": "code",
   "execution_count": null,
   "id": "660fb46c",
   "metadata": {},
   "outputs": [],
   "source": [
    "predictions_train_2018 = model_XGB_2018.predict(X_train_2018)\n",
    "predictions_train_2021 = model_XGB_2021.predict(X_train_2021)"
   ]
  },
  {
   "cell_type": "code",
   "execution_count": null,
   "id": "20ed05e2",
   "metadata": {},
   "outputs": [],
   "source": [
    "MSE_test_2018 = mean_squared_error(Y_test_2018, predictions_test_2018)\n",
    "MAE_test_2018 = mean_absolute_error(Y_test_2018, predictions_test_2018)\n",
    "MAPE_test_2018 = mean_absolute_percentage_error(Y_test_2018, predictions_test_2018)\n",
    "R2_Score_test_2018 = model_XGB_2018.score(X_test_2018,Y_test_2018)\n",
    "\n",
    "MSE_test_2021 = mean_squared_error(Y_test_2021, predictions_test_2021)\n",
    "MAE_test_2021 = mean_absolute_error(Y_test_2021, predictions_test_2021)\n",
    "MAPE_test_2021 = mean_absolute_percentage_error(Y_test_2021, predictions_test_2021)\n",
    "R2_Score_test_2021 = model_XGB_2021.score(X_test_2021,Y_test_2021)\n",
    "\n",
    "MSE_train_2018 = mean_squared_error(Y_train_2018, predictions_train_2018)\n",
    "MAE_train_2018 = mean_absolute_error(Y_train_2018, predictions_train_2018)\n",
    "MAPE_train_2018 = mean_absolute_percentage_error(Y_train_2018, predictions_train_2018)\n",
    "R2_Score_train_2018 = model_XGB_2018.score(X_train_2018,Y_train_2018)\n",
    "\n",
    "MSE_train_2021 = mean_squared_error(Y_train_2021, predictions_train_2021)\n",
    "MAE_train_2021 = mean_absolute_error(Y_train_2021, predictions_train_2021)\n",
    "MAPE_train_2021 = mean_absolute_percentage_error(Y_train_2021, predictions_train_2021)\n",
    "R2_Score_train_2021 = model_XGB_2021.score(X_train_2021,Y_train_2021)"
   ]
  },
  {
   "cell_type": "code",
   "execution_count": null,
   "id": "b99a58c1",
   "metadata": {},
   "outputs": [],
   "source": [
    "print(':::::::::::::::::::::::::')\n",
    "print(':::::::::::::::::::::::::')\n",
    "print('2018 Dataset')\n",
    "print(':::::::::::::::::::::::::')\n",
    "print(':::::::::::::::::::::::::')\n",
    "print('Train Metrics')\n",
    "print(':::::::::::::::::::::::::')\n",
    "print(MSE_train_2018)\n",
    "print(MAE_train_2018)\n",
    "print(MAPE_train_2018)\n",
    "print(round(R2_Score_train_2018,4))\n",
    "print(':::::::::::::::::::::::::')\n",
    "print('Test Metrics')\n",
    "print(':::::::::::::::::::::::::')\n",
    "print(MSE_test_2018)\n",
    "print(MAE_test_2018)\n",
    "print(MAPE_test_2018)\n",
    "print(round(R2_Score_test_2018,4))\n",
    "print(':::::::::::::::::::::::::')\n",
    "print(':::::::::::::::::::::::::')\n",
    "print('2021 Dataset')\n",
    "print(':::::::::::::::::::::::::')\n",
    "print(':::::::::::::::::::::::::')\n",
    "print('Train Metrics')\n",
    "print(':::::::::::::::::::::::::')\n",
    "print(MSE_train_2021)\n",
    "print(MAE_train_2021)\n",
    "print(MAPE_train_2021)\n",
    "print(round(R2_Score_train_2021,4))\n",
    "print(':::::::::::::::::::::::::')\n",
    "print('Test Metrics')\n",
    "print(':::::::::::::::::::::::::')\n",
    "print(MSE_test_2021)\n",
    "print(MAE_test_2021)\n",
    "print(MAPE_test_2021)\n",
    "print(round(R2_Score_test_2021,4))\n",
    "print(':::::::::::::::::::::::::')\n",
    "print(':::::::::::::::::::::::::')"
   ]
  },
  {
   "cell_type": "markdown",
   "id": "c3831829",
   "metadata": {},
   "source": [
    "#### Feature Importance"
   ]
  },
  {
   "cell_type": "code",
   "execution_count": null,
   "id": "e78f93aa",
   "metadata": {},
   "outputs": [],
   "source": [
    "pip install shap"
   ]
  },
  {
   "cell_type": "code",
   "execution_count": null,
   "id": "974affb2",
   "metadata": {},
   "outputs": [],
   "source": [
    "import shap"
   ]
  },
  {
   "cell_type": "code",
   "execution_count": null,
   "id": "c181983f",
   "metadata": {},
   "outputs": [],
   "source": [
    "explainer_2018 = shap.TreeExplainer(model_XGB_2018)\n",
    "shap_values_2018 = explainer_2018.shap_values(X_test_2018)"
   ]
  },
  {
   "cell_type": "code",
   "execution_count": null,
   "id": "2e4bceda",
   "metadata": {
    "scrolled": false
   },
   "outputs": [],
   "source": [
    "shap.summary_plot(shap_values_2018, X_test_2018, plot_type=\"bar\")"
   ]
  },
  {
   "cell_type": "code",
   "execution_count": null,
   "id": "333a0ccc",
   "metadata": {},
   "outputs": [],
   "source": [
    "explainer_2021=shap.TreeExplainer(model_XGB_2021)\n",
    "shap_values_2021=explainer_2021.shap_values(X_test_2021)"
   ]
  },
  {
   "cell_type": "code",
   "execution_count": null,
   "id": "7886e5fe",
   "metadata": {},
   "outputs": [],
   "source": [
    "shap.summary_plot(shap_values_2021, X_test_2021, plot_type=\"bar\")"
   ]
  },
  {
   "cell_type": "markdown",
   "id": "0d723a47",
   "metadata": {},
   "source": [
    "### CATBOOST"
   ]
  },
  {
   "cell_type": "markdown",
   "id": "f3da2843",
   "metadata": {},
   "source": [
    "#### Baseline Models"
   ]
  },
  {
   "cell_type": "code",
   "execution_count": null,
   "id": "85829d91",
   "metadata": {},
   "outputs": [],
   "source": [
    "model_Cat_2018 = CatBoostRegressor()\n",
    "model_Cat_2021 = CatBoostRegressor()"
   ]
  },
  {
   "cell_type": "code",
   "execution_count": null,
   "id": "79dd876a",
   "metadata": {},
   "outputs": [],
   "source": [
    "model_Cat_2018.fit(X_train_2018, Y_train_2018)\n",
    "model_Cat_2021.fit(X_train_2021, Y_train_2021)"
   ]
  },
  {
   "cell_type": "code",
   "execution_count": null,
   "id": "87d1c514",
   "metadata": {},
   "outputs": [],
   "source": [
    "predictions_test_2018 = model_Cat_2018.predict(X_test_2018)\n",
    "predictions_test_2021 = model_Cat_2021.predict(X_test_2021)"
   ]
  },
  {
   "cell_type": "code",
   "execution_count": null,
   "id": "bc5d61ed",
   "metadata": {},
   "outputs": [],
   "source": [
    "predictions_train_2018 = model_Cat_2018.predict(X_train_2018)\n",
    "predictions_train_2021 = model_Cat_2021.predict(X_train_2021)"
   ]
  },
  {
   "cell_type": "code",
   "execution_count": null,
   "id": "ec823eb4",
   "metadata": {},
   "outputs": [],
   "source": [
    "MSE_test_2018 = mean_squared_error(Y_test_2018, predictions_test_2018)\n",
    "MAE_test_2018 = mean_absolute_error(Y_test_2018, predictions_test_2018)\n",
    "MAPE_test_2018 = mean_absolute_percentage_error(Y_test_2018, predictions_test_2018)\n",
    "R2_Score_test_2018 = model_Cat_2018.score(X_test_2018,Y_test_2018)\n",
    "\n",
    "MSE_test_2021 = mean_squared_error(Y_test_2021, predictions_test_2021)\n",
    "MAE_test_2021 = mean_absolute_error(Y_test_2021, predictions_test_2021)\n",
    "MAPE_test_2021 = mean_absolute_percentage_error(Y_test_2021, predictions_test_2021)\n",
    "R2_Score_test_2021 = model_Cat_2021.score(X_test_2021,Y_test_2021)\n",
    "\n",
    "MSE_train_2018 = mean_squared_error(Y_train_2018, predictions_train_2018)\n",
    "MAE_train_2018 = mean_absolute_error(Y_train_2018, predictions_train_2018)\n",
    "MAPE_train_2018 = mean_absolute_percentage_error(Y_train_2018, predictions_train_2018)\n",
    "R2_Score_train_2018 = model_Cat_2018.score(X_train_2018,Y_train_2018)\n",
    "\n",
    "MSE_train_2021 = mean_squared_error(Y_train_2021, predictions_train_2021)\n",
    "MAE_train_2021 = mean_absolute_error(Y_train_2021, predictions_train_2021)\n",
    "MAPE_train_2021 = mean_absolute_percentage_error(Y_train_2021, predictions_train_2021)\n",
    "R2_Score_train_2021 = model_Cat_2021.score(X_train_2021,Y_train_2021)"
   ]
  },
  {
   "cell_type": "code",
   "execution_count": null,
   "id": "190121a5",
   "metadata": {},
   "outputs": [],
   "source": [
    "print(':::::::::::::::::::::::::')\n",
    "print(':::::::::::::::::::::::::')\n",
    "print('2018 Dataset')\n",
    "print(':::::::::::::::::::::::::')\n",
    "print(':::::::::::::::::::::::::')\n",
    "print('Train Metrics')\n",
    "print(':::::::::::::::::::::::::')\n",
    "print(MSE_train_2018)\n",
    "print(MAE_train_2018)\n",
    "print(MAPE_train_2018)\n",
    "print(round(R2_Score_train_2018,4))\n",
    "print(':::::::::::::::::::::::::')\n",
    "print('Test Metrics')\n",
    "print(':::::::::::::::::::::::::')\n",
    "print(MSE_test_2018)\n",
    "print(MAE_test_2018)\n",
    "print(MAPE_test_2018)\n",
    "print(round(R2_Score_test_2018,4))\n",
    "print(':::::::::::::::::::::::::')\n",
    "print(':::::::::::::::::::::::::')\n",
    "print('2021 Dataset')\n",
    "print(':::::::::::::::::::::::::')\n",
    "print(':::::::::::::::::::::::::')\n",
    "print('Train Metrics')\n",
    "print(':::::::::::::::::::::::::')\n",
    "print(MSE_train_2021)\n",
    "print(MAE_train_2021)\n",
    "print(MAPE_train_2021)\n",
    "print(round(R2_Score_train_2021,4))\n",
    "print(':::::::::::::::::::::::::')\n",
    "print('Test Metrics')\n",
    "print(':::::::::::::::::::::::::')\n",
    "print(MSE_test_2021)\n",
    "print(MAE_test_2021)\n",
    "print(MAPE_test_2021)\n",
    "print(round(R2_Score_test_2021,4))\n",
    "print(':::::::::::::::::::::::::')\n",
    "print(':::::::::::::::::::::::::')"
   ]
  },
  {
   "cell_type": "markdown",
   "id": "2bdbeca1",
   "metadata": {},
   "source": [
    "#### Hyperparameter Tuning"
   ]
  },
  {
   "cell_type": "code",
   "execution_count": null,
   "id": "7f7b1be1",
   "metadata": {},
   "outputs": [],
   "source": [
    "from sklearn.model_selection import GridSearchCV\n",
    "\n",
    "model_CatBoost_2018 = CatBoostRegressor()\n",
    "\n",
    "parameters_2018 = {\n",
    "                    'depth'         : [8, 10, 12],\n",
    "                    'learning_rate' : [0.1, 0.3, 0.5],\n",
    "                    'iterations'    : [100, 200, 400, 800]\n",
    "                  }\n",
    "\n",
    "grid_2018 = GridSearchCV(estimator = model_CatBoost_2018, param_grid = parameters_2018, cv = 5, n_jobs = -1)\n",
    "\n",
    "grid_2018.fit(X_train_2018, Y_train_2018)"
   ]
  },
  {
   "cell_type": "code",
   "execution_count": null,
   "id": "24e3a4cc",
   "metadata": {},
   "outputs": [],
   "source": [
    "print(\"\\n The best estimator across ALL searched params:\\n\", grid_2018.best_estimator_)\n",
    "print(\"\\n The best score across ALL searched params:\\n\", grid_2018.best_score_)\n",
    "print(\"\\n The best parameters across ALL searched params:\\n\", grid_2018.best_params_)"
   ]
  },
  {
   "cell_type": "code",
   "execution_count": null,
   "id": "4a95e5f2",
   "metadata": {},
   "outputs": [],
   "source": [
    "model_CatBoost_2021 = CatBoostRegressor()\n",
    "\n",
    "parameters_2021 = {\n",
    "                    'depth'         : [8, 10, 12],\n",
    "                    'learning_rate' : [0.1, 0,3, 0.5],\n",
    "                    'iterations'    : [100, 200, 400, 800]\n",
    "                  }\n",
    "\n",
    "grid_2021 = GridSearchCV(estimator = model_CatBoost_2021, param_grid = parameters_2021, cv = 5, n_jobs = -1)\n",
    "\n",
    "grid_2021.fit(X_train_2021, Y_train_2021)"
   ]
  },
  {
   "cell_type": "code",
   "execution_count": null,
   "id": "8e4832c1",
   "metadata": {},
   "outputs": [],
   "source": [
    "print(\"\\n The best estimator across ALL searched params:\\n\", grid_2021.best_estimator_)\n",
    "print(\"\\n The best score across ALL searched params:\\n\", grid_2021.best_score_)\n",
    "print(\"\\n The best parameters across ALL searched params:\\n\", grid_2021.best_params_)"
   ]
  },
  {
   "cell_type": "code",
   "execution_count": null,
   "id": "7db7d36b",
   "metadata": {},
   "outputs": [],
   "source": [
    "# After the hyperparameter tuning, below parameters have been identified."
   ]
  },
  {
   "cell_type": "code",
   "execution_count": null,
   "id": "ec692e86",
   "metadata": {},
   "outputs": [],
   "source": [
    "parameters_2018 =   {\n",
    "                    'depth':12,\n",
    "                    'eta':.3,\n",
    "                    'iterations':800,\n",
    "                    }\n",
    "\n",
    "parameters_2021 =   {\n",
    "                    'depth':12,\n",
    "                    'eta':.5,\n",
    "                    'iterations':800,\n",
    "                    }"
   ]
  },
  {
   "cell_type": "markdown",
   "id": "44932663",
   "metadata": {},
   "source": [
    "#### Re-Modelling"
   ]
  },
  {
   "cell_type": "code",
   "execution_count": null,
   "id": "2ba01bc5",
   "metadata": {},
   "outputs": [],
   "source": [
    "# After the hyperparameter tuning, the models once again have been checked on test data."
   ]
  },
  {
   "cell_type": "code",
   "execution_count": null,
   "id": "274f350c",
   "metadata": {},
   "outputs": [],
   "source": [
    "model_Cat_2018 = CatBoostRegressor(depth=10, iterations = 800, learning_rate = 0.3)\n",
    "model_Cat_2021 = CatBoostRegressor(depth=10, iterations = 800, learning_rate = 0.5)"
   ]
  },
  {
   "cell_type": "code",
   "execution_count": null,
   "id": "556fa536",
   "metadata": {},
   "outputs": [],
   "source": [
    "model_Cat_2018.fit(X_train_2018, Y_train_2018)\n",
    "model_Cat_2021.fit(X_train_2021, Y_train_2021)"
   ]
  },
  {
   "cell_type": "code",
   "execution_count": null,
   "id": "abf23bc5",
   "metadata": {},
   "outputs": [],
   "source": [
    "predictions_test_2018 = model_Cat_2018.predict(X_test_2018)\n",
    "predictions_test_2021 = model_Cat_2021.predict(X_test_2021)"
   ]
  },
  {
   "cell_type": "code",
   "execution_count": null,
   "id": "81a9a4b0",
   "metadata": {},
   "outputs": [],
   "source": [
    "predictions_train_2018 = model_Cat_2018.predict(X_train_2018)\n",
    "predictions_train_2021 = model_Cat_2021.predict(X_train_2021)"
   ]
  },
  {
   "cell_type": "code",
   "execution_count": null,
   "id": "4bb5d5d4",
   "metadata": {},
   "outputs": [],
   "source": [
    "MSE_test_2018 = mean_squared_error(Y_test_2018, predictions_test_2018)\n",
    "MAE_test_2018 = mean_absolute_error(Y_test_2018, predictions_test_2018)\n",
    "MAPE_test_2018 = mean_absolute_percentage_error(Y_test_2018, predictions_test_2018)\n",
    "R2_Score_test_2018 = model_Cat_2018.score(X_test_2018,Y_test_2018)\n",
    "\n",
    "MSE_test_2021 = mean_squared_error(Y_test_2021, predictions_test_2021)\n",
    "MAE_test_2021 = mean_absolute_error(Y_test_2021, predictions_test_2021)\n",
    "MAPE_test_2021 = mean_absolute_percentage_error(Y_test_2021, predictions_test_2021)\n",
    "R2_Score_test_2021 = model_Cat_2021.score(X_test_2021,Y_test_2021)\n",
    "\n",
    "MSE_train_2018 = mean_squared_error(Y_train_2018, predictions_train_2018)\n",
    "MAE_train_2018 = mean_absolute_error(Y_train_2018, predictions_train_2018)\n",
    "MAPE_train_2018 = mean_absolute_percentage_error(Y_train_2018, predictions_train_2018)\n",
    "R2_Score_train_2018 = model_Cat_2018.score(X_train_2018,Y_train_2018)\n",
    "\n",
    "MSE_train_2021 = mean_squared_error(Y_train_2021, predictions_train_2021)\n",
    "MAE_train_2021 = mean_absolute_error(Y_train_2021, predictions_train_2021)\n",
    "MAPE_train_2021 = mean_absolute_percentage_error(Y_train_2021, predictions_train_2021)\n",
    "R2_Score_train_2021 = model_Cat_2021.score(X_train_2021,Y_train_2021)"
   ]
  },
  {
   "cell_type": "code",
   "execution_count": null,
   "id": "23c0cf56",
   "metadata": {
    "scrolled": true
   },
   "outputs": [],
   "source": [
    "print(':::::::::::::::::::::::::')\n",
    "print(':::::::::::::::::::::::::')\n",
    "print('2018 Dataset')\n",
    "print(':::::::::::::::::::::::::')\n",
    "print(':::::::::::::::::::::::::')\n",
    "print('Train Metrics')\n",
    "print(':::::::::::::::::::::::::')\n",
    "print(MSE_train_2018)\n",
    "print(MAE_train_2018)\n",
    "print(MAPE_train_2018)\n",
    "print(round(R2_Score_train_2018,4))\n",
    "print(':::::::::::::::::::::::::')\n",
    "print('Test Metrics')\n",
    "print(':::::::::::::::::::::::::')\n",
    "print(MSE_test_2018)\n",
    "print(MAE_test_2018)\n",
    "print(MAPE_test_2018)\n",
    "print(round(R2_Score_test_2018,4))\n",
    "print(':::::::::::::::::::::::::')\n",
    "print(':::::::::::::::::::::::::')\n",
    "print('2021 Dataset')\n",
    "print(':::::::::::::::::::::::::')\n",
    "print(':::::::::::::::::::::::::')\n",
    "print('Train Metrics')\n",
    "print(':::::::::::::::::::::::::')\n",
    "print(MSE_train_2021)\n",
    "print(MAE_train_2021)\n",
    "print(MAPE_train_2021)\n",
    "print(round(R2_Score_train_2021,4))\n",
    "print(':::::::::::::::::::::::::')\n",
    "print('Test Metrics')\n",
    "print(':::::::::::::::::::::::::')\n",
    "print(MSE_test_2021)\n",
    "print(MAE_test_2021)\n",
    "print(MAPE_test_2021)\n",
    "print(round(R2_Score_test_2021,4))\n",
    "print(':::::::::::::::::::::::::')\n",
    "print(':::::::::::::::::::::::::')"
   ]
  },
  {
   "cell_type": "markdown",
   "id": "d582595d",
   "metadata": {},
   "source": [
    "#### Feature Importance"
   ]
  },
  {
   "cell_type": "code",
   "execution_count": null,
   "id": "e98f21e4",
   "metadata": {},
   "outputs": [],
   "source": [
    "explainer_2018 = shap.TreeExplainer(model_Cat_2018)\n",
    "shap_values_2018 = explainer_2018.shap_values(X_test_2018)"
   ]
  },
  {
   "cell_type": "code",
   "execution_count": null,
   "id": "38c584ab",
   "metadata": {
    "scrolled": false
   },
   "outputs": [],
   "source": [
    "shap.summary_plot(shap_values_2018, X_test_2018, plot_type=\"bar\")"
   ]
  },
  {
   "cell_type": "code",
   "execution_count": null,
   "id": "68f66b4f",
   "metadata": {},
   "outputs": [],
   "source": [
    "explainer_2021=shap.TreeExplainer(model_Cat_2021)\n",
    "shap_values_2021=explainer_2021.shap_values(X_test_2021)"
   ]
  },
  {
   "cell_type": "code",
   "execution_count": null,
   "id": "7a8b500a",
   "metadata": {},
   "outputs": [],
   "source": [
    "shap.summary_plot(shap_values_2021, X_test_2021, plot_type=\"bar\")"
   ]
  },
  {
   "cell_type": "markdown",
   "id": "16a899b5",
   "metadata": {},
   "source": [
    "### LIGHTGBM"
   ]
  },
  {
   "cell_type": "markdown",
   "id": "997f3232",
   "metadata": {},
   "source": [
    "#### Baseline Models"
   ]
  },
  {
   "cell_type": "code",
   "execution_count": null,
   "id": "1ece008b",
   "metadata": {},
   "outputs": [],
   "source": [
    "model_LGBM_2018 = LGBMRegressor()\n",
    "model_LGBM_2021 = LGBMRegressor()"
   ]
  },
  {
   "cell_type": "code",
   "execution_count": null,
   "id": "ce503f71",
   "metadata": {},
   "outputs": [],
   "source": [
    "model_LGBM_2018.fit(X_train_2018, Y_train_2018)\n",
    "model_LGBM_2021.fit(X_train_2021, Y_train_2021)"
   ]
  },
  {
   "cell_type": "code",
   "execution_count": null,
   "id": "42c0f2b5",
   "metadata": {},
   "outputs": [],
   "source": [
    "predictions_test_2018 = model_LGBM_2018.predict(X_test_2018)\n",
    "predictions_test_2021 = model_LGBM_2021.predict(X_test_2021)"
   ]
  },
  {
   "cell_type": "code",
   "execution_count": null,
   "id": "80e41612",
   "metadata": {},
   "outputs": [],
   "source": [
    "predictions_train_2018 = model_LGBM_2018.predict(X_train_2018)\n",
    "predictions_train_2021 = model_LGBM_2021.predict(X_train_2021)"
   ]
  },
  {
   "cell_type": "code",
   "execution_count": null,
   "id": "057edab8",
   "metadata": {},
   "outputs": [],
   "source": [
    "MSE_test_2018 = mean_squared_error(Y_test_2018, predictions_test_2018)\n",
    "MAE_test_2018 = mean_absolute_error(Y_test_2018, predictions_test_2018)\n",
    "MAPE_test_2018 = mean_absolute_percentage_error(Y_test_2018, predictions_test_2018)\n",
    "R2_Score_test_2018 = model_LGBM_2018.score(X_test_2018,Y_test_2018)\n",
    "\n",
    "MSE_test_2021 = mean_squared_error(Y_test_2021, predictions_test_2021)\n",
    "MAE_test_2021 = mean_absolute_error(Y_test_2021, predictions_test_2021)\n",
    "MAPE_test_2021 = mean_absolute_percentage_error(Y_test_2021, predictions_test_2021)\n",
    "R2_Score_test_2021 = model_LGBM_2021.score(X_test_2021,Y_test_2021)\n",
    "\n",
    "MSE_train_2018 = mean_squared_error(Y_train_2018, predictions_train_2018)\n",
    "MAE_train_2018 = mean_absolute_error(Y_train_2018, predictions_train_2018)\n",
    "MAPE_train_2018 = mean_absolute_percentage_error(Y_train_2018, predictions_train_2018)\n",
    "R2_Score_train_2018 = model_LGBM_2018.score(X_train_2018,Y_train_2018)\n",
    "\n",
    "MSE_train_2021 = mean_squared_error(Y_train_2021, predictions_train_2021)\n",
    "MAE_train_2021 = mean_absolute_error(Y_train_2021, predictions_train_2021)\n",
    "MAPE_train_2021 = mean_absolute_percentage_error(Y_train_2021, predictions_train_2021)\n",
    "R2_Score_train_2021 = model_LGBM_2021.score(X_train_2021,Y_train_2021)"
   ]
  },
  {
   "cell_type": "code",
   "execution_count": null,
   "id": "f7da547a",
   "metadata": {},
   "outputs": [],
   "source": [
    "print(':::::::::::::::::::::::::')\n",
    "print(':::::::::::::::::::::::::')\n",
    "print('2018 Dataset')\n",
    "print(':::::::::::::::::::::::::')\n",
    "print(':::::::::::::::::::::::::')\n",
    "print('Train Metrics')\n",
    "print(':::::::::::::::::::::::::')\n",
    "print(MSE_train_2018)\n",
    "print(MAE_train_2018)\n",
    "print(MAPE_train_2018)\n",
    "print(round(R2_Score_train_2018,4))\n",
    "print(':::::::::::::::::::::::::')\n",
    "print('Test Metrics')\n",
    "print(':::::::::::::::::::::::::')\n",
    "print(MSE_test_2018)\n",
    "print(MAE_test_2018)\n",
    "print(MAPE_test_2018)\n",
    "print(round(R2_Score_test_2018,4))\n",
    "print(':::::::::::::::::::::::::')\n",
    "print(':::::::::::::::::::::::::')\n",
    "print('2021 Dataset')\n",
    "print(':::::::::::::::::::::::::')\n",
    "print(':::::::::::::::::::::::::')\n",
    "print('Train Metrics')\n",
    "print(':::::::::::::::::::::::::')\n",
    "print(MSE_train_2021)\n",
    "print(MAE_train_2021)\n",
    "print(MAPE_train_2021)\n",
    "print(round(R2_Score_train_2021,4))\n",
    "print(':::::::::::::::::::::::::')\n",
    "print('Test Metrics')\n",
    "print(':::::::::::::::::::::::::')\n",
    "print(MSE_test_2021)\n",
    "print(MAE_test_2021)\n",
    "print(MAPE_test_2021)\n",
    "print(round(R2_Score_test_2021,4))\n",
    "print(':::::::::::::::::::::::::')\n",
    "print(':::::::::::::::::::::::::')"
   ]
  },
  {
   "cell_type": "markdown",
   "id": "cc02a6be",
   "metadata": {},
   "source": [
    "#### Hyperparameter Tuning"
   ]
  },
  {
   "cell_type": "code",
   "execution_count": null,
   "id": "697f4199",
   "metadata": {},
   "outputs": [],
   "source": [
    "model_LightGBM_2018 = LGBMRegressor()\n",
    "\n",
    "parameters_2018 = {\n",
    "                    'max_depth'  : [6, 8, 10, 12],\n",
    "                    'Num_leaves' : [20, 40, 60, 80, 100, 120]\n",
    "                  }\n",
    "\n",
    "grid_2018 = GridSearchCV(estimator = model_LightGBM_2018, param_grid = parameters_2018, cv = 5, n_jobs = -1)\n",
    "\n",
    "grid_2018.fit(X_train_2018, Y_train_2018)"
   ]
  },
  {
   "cell_type": "code",
   "execution_count": null,
   "id": "baebe5a3",
   "metadata": {},
   "outputs": [],
   "source": [
    "print(\"\\n The best estimator across ALL searched params:\\n\", grid_2018.best_estimator_)\n",
    "print(\"\\n The best score across ALL searched params:\\n\", grid_2018.best_score_)\n",
    "print(\"\\n The best parameters across ALL searched params:\\n\", grid_2018.best_params_)"
   ]
  },
  {
   "cell_type": "code",
   "execution_count": null,
   "id": "f075b45b",
   "metadata": {},
   "outputs": [],
   "source": [
    "model_LightGBM_2021 = LGBMRegressor()\n",
    "\n",
    "parameters_2021 = {\n",
    "                    'max_depth'  : [6, 8, 10, 12],\n",
    "                    'Num_leaves' : [20, 40, 60, 80, 100, 120]\n",
    "                  }\n",
    "\n",
    "grid_2021 = GridSearchCV(estimator = model_LightGBM_2021, param_grid = parameters_2021, cv = 5, n_jobs = -1)\n",
    "\n",
    "grid_2021.fit(X_train_2021, Y_train_2021)"
   ]
  },
  {
   "cell_type": "code",
   "execution_count": null,
   "id": "13dbb41b",
   "metadata": {},
   "outputs": [],
   "source": [
    "print(\"\\n The best estimator across ALL searched params:\\n\", grid_2021.best_estimator_)\n",
    "print(\"\\n The best score across ALL searched params:\\n\", grid_2021.best_score_)\n",
    "print(\"\\n The best parameters across ALL searched params:\\n\", grid_2021.best_params_)"
   ]
  },
  {
   "cell_type": "markdown",
   "id": "696a6fa7",
   "metadata": {},
   "source": [
    "#### Re-Modelling"
   ]
  },
  {
   "cell_type": "code",
   "execution_count": null,
   "id": "821377fe",
   "metadata": {},
   "outputs": [],
   "source": [
    "model_LightGBM_2018 = LGBMRegressor(max_depth = 7, num_leaves = 120)\n",
    "model_LightGBM_2021 = LGBMRegressor(max_depth = 7, num_leaves = 120)"
   ]
  },
  {
   "cell_type": "code",
   "execution_count": null,
   "id": "da2ce4a9",
   "metadata": {},
   "outputs": [],
   "source": [
    "model_LightGBM_2018.fit(X_train_2018, Y_train_2018)\n",
    "model_LightGBM_2021.fit(X_train_2021, Y_train_2021)"
   ]
  },
  {
   "cell_type": "code",
   "execution_count": null,
   "id": "049bc6b3",
   "metadata": {},
   "outputs": [],
   "source": [
    "predictions_test_2018 = model_LightGBM_2018.predict(X_test_2018)\n",
    "predictions_test_2021 = model_LightGBM_2021.predict(X_test_2021)"
   ]
  },
  {
   "cell_type": "code",
   "execution_count": null,
   "id": "96e5cee1",
   "metadata": {},
   "outputs": [],
   "source": [
    "predictions_train_2018 = model_LightGBM_2018.predict(X_train_2018)\n",
    "predictions_train_2021 = model_LightGBM_2021.predict(X_train_2021)"
   ]
  },
  {
   "cell_type": "code",
   "execution_count": null,
   "id": "2c4fa67a",
   "metadata": {},
   "outputs": [],
   "source": [
    "MSE_test_2018 = mean_squared_error(Y_test_2018, predictions_test_2018)\n",
    "MAE_test_2018 = mean_absolute_error(Y_test_2018, predictions_test_2018)\n",
    "MAPE_test_2018 = mean_absolute_percentage_error(Y_test_2018, predictions_test_2018)\n",
    "R2_Score_test_2018 = model_LightGBM_2018.score(X_test_2018,Y_test_2018)\n",
    "\n",
    "MSE_test_2021 = mean_squared_error(Y_test_2021, predictions_test_2021)\n",
    "MAE_test_2021 = mean_absolute_error(Y_test_2021, predictions_test_2021)\n",
    "MAPE_test_2021 = mean_absolute_percentage_error(Y_test_2021, predictions_test_2021)\n",
    "R2_Score_test_2021 = model_LightGBM_2021.score(X_test_2021,Y_test_2021)\n",
    "\n",
    "MSE_train_2018 = mean_squared_error(Y_train_2018, predictions_train_2018)\n",
    "MAE_train_2018 = mean_absolute_error(Y_train_2018, predictions_train_2018)\n",
    "MAPE_train_2018 = mean_absolute_percentage_error(Y_train_2018, predictions_train_2018)\n",
    "R2_Score_train_2018 = model_LightGBM_2018.score(X_train_2018,Y_train_2018)\n",
    "\n",
    "MSE_train_2021 = mean_squared_error(Y_train_2021, predictions_train_2021)\n",
    "MAE_train_2021 = mean_absolute_error(Y_train_2021, predictions_train_2021)\n",
    "MAPE_train_2021 = mean_absolute_percentage_error(Y_train_2021, predictions_train_2021)\n",
    "R2_Score_train_2021 = model_LightGBM_2021.score(X_train_2021,Y_train_2021)"
   ]
  },
  {
   "cell_type": "code",
   "execution_count": null,
   "id": "9d618cb2",
   "metadata": {},
   "outputs": [],
   "source": [
    "print(':::::::::::::::::::::::::')\n",
    "print(':::::::::::::::::::::::::')\n",
    "print('2018 Dataset')\n",
    "print(':::::::::::::::::::::::::')\n",
    "print(':::::::::::::::::::::::::')\n",
    "print('Train Metrics')\n",
    "print(':::::::::::::::::::::::::')\n",
    "print(MSE_train_2018)\n",
    "print(MAE_train_2018)\n",
    "print(MAPE_train_2018)\n",
    "print(round(R2_Score_train_2018,4))\n",
    "print(':::::::::::::::::::::::::')\n",
    "print('Test Metrics')\n",
    "print(':::::::::::::::::::::::::')\n",
    "print(MSE_test_2018)\n",
    "print(MAE_test_2018)\n",
    "print(MAPE_test_2018)\n",
    "print(round(R2_Score_test_2018,4))\n",
    "print(':::::::::::::::::::::::::')\n",
    "print(':::::::::::::::::::::::::')\n",
    "print('2021 Dataset')\n",
    "print(':::::::::::::::::::::::::')\n",
    "print(':::::::::::::::::::::::::')\n",
    "print('Train Metrics')\n",
    "print(':::::::::::::::::::::::::')\n",
    "print(MSE_train_2021)\n",
    "print(MAE_train_2021)\n",
    "print(MAPE_train_2021)\n",
    "print(round(R2_Score_train_2021,4))\n",
    "print(':::::::::::::::::::::::::')\n",
    "print('Test Metrics')\n",
    "print(':::::::::::::::::::::::::')\n",
    "print(MSE_test_2021)\n",
    "print(MAE_test_2021)\n",
    "print(MAPE_test_2021)\n",
    "print(round(R2_Score_test_2021,4))\n",
    "print(':::::::::::::::::::::::::')\n",
    "print(':::::::::::::::::::::::::')"
   ]
  },
  {
   "cell_type": "markdown",
   "id": "4a3ece3f",
   "metadata": {},
   "source": [
    "#### Feature Importance"
   ]
  },
  {
   "cell_type": "code",
   "execution_count": null,
   "id": "d23d1c0a",
   "metadata": {},
   "outputs": [],
   "source": [
    "explainer_2018 = shap.TreeExplainer(model_LightGBM_2018)\n",
    "shap_values_2018 = explainer_2018.shap_values(X_test_2018)"
   ]
  },
  {
   "cell_type": "code",
   "execution_count": null,
   "id": "07d51b9e",
   "metadata": {
    "scrolled": false
   },
   "outputs": [],
   "source": [
    "shap.summary_plot(shap_values_2018, X_test_2018, plot_type=\"bar\")"
   ]
  },
  {
   "cell_type": "code",
   "execution_count": null,
   "id": "5e73aca9",
   "metadata": {},
   "outputs": [],
   "source": [
    "explainer_2021 = shap.TreeExplainer(model_LightGBM_2021)\n",
    "shap_values_2021 = explainer_2021.shap_values(X_test_2021)"
   ]
  },
  {
   "cell_type": "code",
   "execution_count": null,
   "id": "c602350c",
   "metadata": {},
   "outputs": [],
   "source": [
    "shap.summary_plot(shap_values_2021, X_test_2021, plot_type=\"bar\")"
   ]
  },
  {
   "cell_type": "markdown",
   "id": "6f9f4fa1",
   "metadata": {},
   "source": [
    "### TABNET"
   ]
  },
  {
   "cell_type": "code",
   "execution_count": null,
   "id": "cf2cbea6",
   "metadata": {},
   "outputs": [],
   "source": [
    "pip install pytorch-tabnet"
   ]
  },
  {
   "cell_type": "code",
   "execution_count": null,
   "id": "05e077e2",
   "metadata": {},
   "outputs": [],
   "source": [
    "pip install torchvision"
   ]
  },
  {
   "cell_type": "code",
   "execution_count": null,
   "id": "edaec44a",
   "metadata": {},
   "outputs": [],
   "source": [
    "pip install tabnet"
   ]
  },
  {
   "cell_type": "code",
   "execution_count": null,
   "id": "b86bc336",
   "metadata": {},
   "outputs": [],
   "source": [
    "import pytorch_tabnet"
   ]
  },
  {
   "cell_type": "code",
   "execution_count": null,
   "id": "47eaea5e",
   "metadata": {},
   "outputs": [],
   "source": [
    "import torch\n",
    "import torchvision"
   ]
  },
  {
   "cell_type": "code",
   "execution_count": null,
   "id": "5562815c",
   "metadata": {},
   "outputs": [],
   "source": [
    "from pytorch_tabnet.tab_model import TabNetRegressor"
   ]
  },
  {
   "cell_type": "code",
   "execution_count": null,
   "id": "289db41f",
   "metadata": {},
   "outputs": [],
   "source": [
    "from sklearn.model_selection import KFold\n",
    "from sklearn.model_selection import cross_val_score"
   ]
  },
  {
   "cell_type": "markdown",
   "id": "1ba7b095",
   "metadata": {},
   "source": [
    "#### Baseline Models"
   ]
  },
  {
   "cell_type": "code",
   "execution_count": null,
   "id": "fee72235",
   "metadata": {},
   "outputs": [],
   "source": [
    "model_TabNet_2018 = TabNetRegressor()\n",
    "model_TabNet_2021 = TabNetRegressor()"
   ]
  },
  {
   "cell_type": "code",
   "execution_count": null,
   "id": "83b5ce2a",
   "metadata": {},
   "outputs": [],
   "source": [
    "X_train_2018_tabnet = X_train_2018.to_numpy()\n",
    "X_train_2021_tabnet = X_train_2021.to_numpy()\n",
    "X_test_2018_tabnet = X_test_2018.to_numpy()\n",
    "X_test_2021_tabnet = X_test_2021.to_numpy()\n",
    "\n",
    "Y_train_2018_tabnet = Y_train_2018.to_numpy().reshape(-1, 1)\n",
    "Y_train_2021_tabnet = Y_train_2021.to_numpy().reshape(-1, 1)\n",
    "Y_test_2018_tabnet = Y_test_2018.to_numpy().reshape(-1, 1)\n",
    "Y_test_2021_tabnet = Y_test_2021.to_numpy().reshape(-1, 1)"
   ]
  },
  {
   "cell_type": "code",
   "execution_count": null,
   "id": "bc4f70d3",
   "metadata": {},
   "outputs": [],
   "source": [
    "model_TabNet_2018.fit(X_train_2018_tabnet, Y_train_2018_tabnet)\n",
    "model_TabNet_2021.fit(X_train_2021_tabnet, Y_train_2021_tabnet)"
   ]
  },
  {
   "cell_type": "code",
   "execution_count": null,
   "id": "026c319f",
   "metadata": {},
   "outputs": [],
   "source": [
    "predictions_test_2018 = model_TabNet_2018.predict(X_test_2018_tabnet)\n",
    "predictions_test_2021 = model_TabNet_2021.predict(X_test_2021_tabnet)"
   ]
  },
  {
   "cell_type": "code",
   "execution_count": null,
   "id": "5d555b6e",
   "metadata": {},
   "outputs": [],
   "source": [
    "predictions_train_2018 = model_TabNet_2018.predict(X_train_2018_tabnet)\n",
    "predictions_train_2021 = model_TabNet_2021.predict(X_train_2021_tabnet)"
   ]
  },
  {
   "cell_type": "code",
   "execution_count": null,
   "id": "abfb9a3a",
   "metadata": {},
   "outputs": [],
   "source": [
    "TabNet_test_MAE_2018 = mean_absolute_error(Y_test_2018_tabnet, predictions_test_2018)\n",
    "TabNet_test_MSE_2018 = mean_squared_error(Y_test_2018_tabnet, predictions_test_2018)\n",
    "TabNet_test_MAPE_2018 = mean_absolute_percentage_error(Y_test_2018_tabnet, predictions_test_2018)\n",
    "TabNet_test_R_2_2018 = r2_score(Y_test_2018_tabnet, predictions_test_2018)\n",
    "\n",
    "TabNet_test_MAE_2021 = mean_absolute_error(Y_test_2021_tabnet, predictions_test_2021)\n",
    "TabNet_test_MSE_2021 = mean_squared_error(Y_test_2021_tabnet, predictions_test_2021)\n",
    "TabNet_test_MAPE_2021 = mean_absolute_percentage_error(Y_test_2021_tabnet, predictions_test_2021)\n",
    "TabNet_test_R_2_2021 = r2_score(Y_test_2021_tabnet, predictions_test_2021)\n",
    "\n",
    "TabNet_train_MAE_2018 = mean_absolute_error(Y_train_2018_tabnet, predictions_train_2018)\n",
    "TabNet_train_MSE_2018 = mean_squared_error(Y_train_2018_tabnet, predictions_train_2018)\n",
    "TabNet_train_MAPE_2018 = mean_absolute_percentage_error(Y_train_2018_tabnet, predictions_train_2018)\n",
    "TabNet_train_R_2_2018 = r2_score(Y_train_2018_tabnet, predictions_train_2018)\n",
    "\n",
    "TabNet_train_MAE_2021 = mean_absolute_error(Y_train_2021_tabnet, predictions_train_2021)\n",
    "TabNet_train_MSE_2021 = mean_squared_error(Y_train_2021_tabnet, predictions_train_2021)\n",
    "TabNet_train_MAPE_2021 = mean_absolute_percentage_error(Y_train_2021_tabnet, predictions_train_2021)\n",
    "TabNet_train_R_2_2021 = r2_score(Y_train_2021_tabnet, predictions_train_2021)"
   ]
  },
  {
   "cell_type": "code",
   "execution_count": null,
   "id": "81586537",
   "metadata": {},
   "outputs": [],
   "source": [
    "print(':::::::::::::::::::::::::')\n",
    "print('2018 Dataset')\n",
    "print(':::::::::::::::::::::::::')\n",
    "print('Train Metrics')\n",
    "print(':::::::::::::::::::::::::')\n",
    "print(TabNet_train_MAE_2018)\n",
    "print(TabNet_train_MSE_2018)\n",
    "print(TabNet_train_MAPE_2018)\n",
    "print(TabNet_train_R_2_2018)\n",
    "print(':::::::::::::::::::::::::')\n",
    "print('Test Metrics')\n",
    "print(':::::::::::::::::::::::::')\n",
    "print(TabNet_test_MAE_2018)\n",
    "print(TabNet_test_MSE_2018)\n",
    "print(TabNet_test_MAPE_2018)\n",
    "print(TabNet_test_R_2_2018)\n",
    "print(':::::::::::::::::::::::::')\n",
    "print('2021 Dataset')\n",
    "print(':::::::::::::::::::::::::')\n",
    "print('Train Metrics')\n",
    "print(':::::::::::::::::::::::::')\n",
    "print(TabNet_train_MAE_2021)\n",
    "print(TabNet_train_MSE_2021)\n",
    "print(TabNet_train_MAPE_2021)\n",
    "print(TabNet_train_R_2_2021)\n",
    "print(':::::::::::::::::::::::::')\n",
    "print('Test Metrics')\n",
    "print(':::::::::::::::::::::::::')\n",
    "print(TabNet_test_MAE_2021)\n",
    "print(TabNet_test_MSE_2021)\n",
    "print(TabNet_test_MAPE_2021)\n",
    "print(TabNet_test_R_2_2021)\n",
    "print(':::::::::::::::::::::::::')\n",
    "print(':::::::::::::::::::::::::')"
   ]
  },
  {
   "cell_type": "markdown",
   "id": "0867f7ff",
   "metadata": {},
   "source": [
    "#### Hyperparameter Tuning"
   ]
  },
  {
   "cell_type": "code",
   "execution_count": null,
   "id": "02d57585",
   "metadata": {},
   "outputs": [],
   "source": [
    "X_2018_tabnet = X_2018.to_numpy()\n",
    "Y_2018_tabnet = Y_2018.to_numpy().reshape(-1, 1)\n",
    "\n",
    "X_2021_tabnet = X_2021.to_numpy()\n",
    "Y_2021_tabnet = Y_2021.to_numpy().reshape(-1, 1)"
   ]
  },
  {
   "cell_type": "code",
   "execution_count": null,
   "id": "ce9e01c5",
   "metadata": {},
   "outputs": [],
   "source": [
    "KF_2018_tabnet = KFold(n_splits = 5, random_state = 42, shuffle = True)\n",
    "Predictions_2018_tabnet = []\n",
    "Cross_Validation_Score_2018 = []\n",
    "\n",
    "for train_index, test_index in KF_2018_tabnet.split(X_2018_tabnet):\n",
    "    X_train_2018_tabnet, X_valid_2018_tabnet = X_2018_tabnet[train_index], X_2018_tabnet[test_index]\n",
    "    Y_train_2018_tabnet, Y_valid_2018_tabnet = Y_2018_tabnet[train_index], Y_2018_tabnet[test_index]\n",
    "    Regressor = TabNetRegressor()\n",
    "    Regressor.fit(X_train = X_train_2018_tabnet, y_train = Y_train_2018_tabnet,\n",
    "              eval_set=[(X_valid_2018_tabnet, Y_valid_2018_tabnet)])\n",
    "    Cross_Validation_Score_2018.append(Regressor.best_cost)\n",
    "    Predictions_2018_tabnet.append(np.expm1(Regressor.predict(X_test_2018_tabnet)))\n",
    "\n",
    "tabnet_predictions_2018 = np.mean(Predictions_2018_tabnet,axis=0)"
   ]
  },
  {
   "cell_type": "code",
   "execution_count": null,
   "id": "eaff90f3",
   "metadata": {},
   "outputs": [],
   "source": [
    "np.mean(Cross_Validation_Score_2018, axis=0)"
   ]
  },
  {
   "cell_type": "code",
   "execution_count": null,
   "id": "4e026d4d",
   "metadata": {},
   "outputs": [],
   "source": [
    "RMSLE = np.sqrt( mean_squared_log_error(y_true, tabnet_predictions_2018) )"
   ]
  },
  {
   "cell_type": "code",
   "execution_count": null,
   "id": "194b6775",
   "metadata": {},
   "outputs": [],
   "source": [
    "Regressor.get_params"
   ]
  },
  {
   "cell_type": "code",
   "execution_count": null,
   "id": "08f001ab",
   "metadata": {},
   "outputs": [],
   "source": [
    "KF_2021_tabnet = KFold(n_splits = 5, random_state = 42, shuffle = True)\n",
    "Predictions_2021_tabnet = []\n",
    "Cross_Validation_Score_2021 = []\n",
    "\n",
    "for train_index, test_index in KF_2021_tabnet.split(X_2021_tabnet):\n",
    "    X_train_2021_tabnet, X_valid_2021_tabnet = X_2021_tabnet[train_index], X_2021_tabnet[test_index]\n",
    "    Y_train_2021_tabnet, Y_valid_2021_tabnet = Y_2021_tabnet[train_index], Y_2021_tabnet[test_index]\n",
    "    Regressor = TabNetRegressor()\n",
    "    Regressor.fit(X_train = X_train_2021_tabnet, y_train = Y_train_2021_tabnet,\n",
    "              eval_set=[(X_valid_2021_tabnet, Y_valid_2021_tabnet)])\n",
    "    Cross_Validation_Score_2021.append(Regressor.best_cost)\n",
    "    Predictions_2021_tabnet.append(np.expm1(Regressor.predict(X_test_2021_tabnet)))\n",
    "\n",
    "tabnet_predictions_2021 = np.mean(Predictions_2021_tabnet,axis=0)"
   ]
  },
  {
   "cell_type": "code",
   "execution_count": null,
   "id": "7d938989",
   "metadata": {},
   "outputs": [],
   "source": [
    "np.mean(Cross_Validation_Score_2021, axis=0)"
   ]
  },
  {
   "cell_type": "code",
   "execution_count": null,
   "id": "be3d6b81",
   "metadata": {},
   "outputs": [],
   "source": [
    "RMSLE = np.sqrt( mean_squared_log_error(y_true, tabnet_predictions_2021) )"
   ]
  },
  {
   "cell_type": "code",
   "execution_count": null,
   "id": "4af45b4a",
   "metadata": {},
   "outputs": [],
   "source": [
    "Regressor.get_params"
   ]
  },
  {
   "cell_type": "markdown",
   "id": "8cbf8a84",
   "metadata": {},
   "source": [
    "#### Re-Modelling"
   ]
  },
  {
   "cell_type": "code",
   "execution_count": null,
   "id": "db05baad",
   "metadata": {},
   "outputs": [],
   "source": [
    "model_TabNet_2018 = TabNetRegressor(\n",
    "                                    n_d=8, \n",
    "                                    n_a=8, \n",
    "                                    n_steps=3, \n",
    "                                    gamma=1.3, \n",
    "                                    cat_idxs=[], \n",
    "                                    cat_dims=[], \n",
    "                                    cat_emb_dim=1, \n",
    "                                    n_independent=2, \n",
    "                                    n_shared=2, \n",
    "                                    epsilon=1e-15, \n",
    "                                    momentum=0.02, \n",
    "                                    lambda_sparse=0.001, \n",
    "                                    seed=0, \n",
    "                                    clip_value=1, \n",
    "                                    verbose=1, \n",
    "                                    optimizer_fn=<class 'torch.optim.adam.Adam'>, \n",
    "                                    optimizer_params={'lr': 0.02}, \n",
    "                                    scheduler_fn=None, \n",
    "                                    scheduler_params={}, \n",
    "                                    mask_type='sparsemax', \n",
    "                                    input_dim=12, \n",
    "                                    output_dim=1, \n",
    "                                    device_name='auto', \n",
    "                                    n_shared_decoder=1, \n",
    "                                    n_indep_decoder=1\n",
    "                                   )\n",
    "model_TabNet_2021 = TabNetRegressor(\n",
    "                                    n_d=8, \n",
    "                                    n_a=8, \n",
    "                                    n_steps=3, \n",
    "                                    gamma=1.3, \n",
    "                                    cat_idxs=[], \n",
    "                                    cat_dims=[], \n",
    "                                    cat_emb_dim=1, \n",
    "                                    n_independent=2, \n",
    "                                    n_shared=2, \n",
    "                                    epsilon=1e-15, \n",
    "                                    momentum=0.02, \n",
    "                                    lambda_sparse=0.001, \n",
    "                                    seed=0, \n",
    "                                    clip_value=1, \n",
    "                                    verbose=1, \n",
    "                                    optimizer_fn=<class 'torch.optim.adam.Adam'>, \n",
    "                                    optimizer_params={'lr': 0.02}, \n",
    "                                    scheduler_fn=None, \n",
    "                                    scheduler_params={}, \n",
    "                                    mask_type='sparsemax', \n",
    "                                    input_dim=12, \n",
    "                                    output_dim=1, \n",
    "                                    device_name='auto', \n",
    "                                    n_shared_decoder=1, \n",
    "                                    n_indep_decoder=1\n",
    "                                   )"
   ]
  },
  {
   "cell_type": "code",
   "execution_count": null,
   "id": "0bee4af1",
   "metadata": {},
   "outputs": [],
   "source": [
    "model_TabNet_2018.fit(X_train_2018_tabnet, Y_train_2018_tabnet)\n",
    "model_TabNet_2021.fit(X_train_2021_tabnet, Y_train_2021_tabnet)"
   ]
  },
  {
   "cell_type": "code",
   "execution_count": null,
   "id": "7de8d062",
   "metadata": {},
   "outputs": [],
   "source": [
    "predictions_test_2018 = model_TabNet_2018.predict(X_test_2018_tabnet)\n",
    "predictions_test_2021 = model_TabNet_2021.predict(X_test_2021_tabnet)"
   ]
  },
  {
   "cell_type": "code",
   "execution_count": null,
   "id": "d4765862",
   "metadata": {},
   "outputs": [],
   "source": [
    "predictions_train_2018 = model_TabNet_2018.predict(X_train_2018_tabnet)\n",
    "predictions_train_2021 = model_TabNet_2021.predict(X_train_2021_tabnet)"
   ]
  },
  {
   "cell_type": "code",
   "execution_count": null,
   "id": "4231e9ab",
   "metadata": {},
   "outputs": [],
   "source": [
    "TabNet_test_MAE_2018 = mean_absolute_error(Y_test_2018_tabnet, predictions_test_2018)\n",
    "TabNet_test_MSE_2018 = mean_squared_error(Y_test_2018_tabnet, predictions_test_2018)\n",
    "TabNet_test_MAPE_2018 = mean_absolute_percentage_error(Y_test_2018_tabnet, predictions_test_2018)\n",
    "TabNet_test_R_2_2018 = r2_score(Y_test_2018_tabnet, predictions_test_2018)\n",
    "\n",
    "TabNet_test_MAE_2021 = mean_absolute_error(Y_test_2021_tabnet, predictions_test_2021)\n",
    "TabNet_test_MSE_2021 = mean_squared_error(Y_test_2021_tabnet, predictions_test_2021)\n",
    "TabNet_test_MAPE_2021 = mean_absolute_percentage_error(Y_test_2021_tabnet, predictions_test_2021)\n",
    "TabNet_test_R_2_2021 = r2_score(Y_test_2021_tabnet, predictions_test_2021)\n",
    "\n",
    "TabNet_train_MAE_2018 = mean_absolute_error(Y_train_2018_tabnet, predictions_train_2018)\n",
    "TabNet_train_MSE_2018 = mean_squared_error(Y_train_2018_tabnet, predictions_train_2018)\n",
    "TabNet_train_MAPE_2018 = mean_absolute_percentage_error(Y_train_2018_tabnet, predictions_train_2018)\n",
    "TabNet_train_R_2_2018 = r2_score(Y_train_2018_tabnet, predictions_train_2018)\n",
    "\n",
    "TabNet_train_MAE_2021 = mean_absolute_error(Y_train_2021_tabnet, predictions_train_2021)\n",
    "TabNet_train_MSE_2021 = mean_squared_error(Y_train_2021_tabnet, predictions_train_2021)\n",
    "TabNet_train_MAPE_2021 = mean_absolute_percentage_error(Y_train_2021_tabnet, predictions_train_2021)\n",
    "TabNet_train_R_2_2021 = r2_score(Y_train_2021_tabnet, predictions_train_2021)"
   ]
  },
  {
   "cell_type": "code",
   "execution_count": null,
   "id": "856e6f0e",
   "metadata": {},
   "outputs": [],
   "source": [
    "print(':::::::::::::::::::::::::')\n",
    "print('2018 Dataset')\n",
    "print(':::::::::::::::::::::::::')\n",
    "print('Train Metrics')\n",
    "print(':::::::::::::::::::::::::')\n",
    "print(TabNet_train_MAE_2018)\n",
    "print(TabNet_train_MSE_2018)\n",
    "print(TabNet_train_MAPE_2018)\n",
    "print(TabNet_train_R_2_2018)\n",
    "print(':::::::::::::::::::::::::')\n",
    "print('Test Metrics')\n",
    "print(':::::::::::::::::::::::::')\n",
    "print(TabNet_test_MAE_2018)\n",
    "print(TabNet_test_MSE_2018)\n",
    "print(TabNet_test_MAPE_2018)\n",
    "print(TabNet_test_R_2_2018)\n",
    "print(':::::::::::::::::::::::::')\n",
    "print('2021 Dataset')\n",
    "print(':::::::::::::::::::::::::')\n",
    "print('Train Metrics')\n",
    "print(':::::::::::::::::::::::::')\n",
    "print(TabNet_train_MAE_2021)\n",
    "print(TabNet_train_MSE_2021)\n",
    "print(TabNet_train_MAPE_2021)\n",
    "print(TabNet_train_R_2_2021)\n",
    "print(':::::::::::::::::::::::::')\n",
    "print('Test Metrics')\n",
    "print(':::::::::::::::::::::::::')\n",
    "print(TabNet_test_MAE_2021)\n",
    "print(TabNet_test_MSE_2021)\n",
    "print(TabNet_test_MAPE_2021)\n",
    "print(TabNet_test_R_2_2021)\n",
    "print(':::::::::::::::::::::::::')\n",
    "print(':::::::::::::::::::::::::')"
   ]
  },
  {
   "cell_type": "markdown",
   "id": "42bf10ca",
   "metadata": {},
   "source": [
    "#### Feature Importance"
   ]
  },
  {
   "cell_type": "code",
   "execution_count": null,
   "id": "31362f87",
   "metadata": {},
   "outputs": [],
   "source": [
    "Feature_Importance_2018 = model_TabNet_2018.feature_importances_\n",
    "indices = np.argsort(Feature_Importance_2018)"
   ]
  },
  {
   "cell_type": "code",
   "execution_count": null,
   "id": "0ac85b05",
   "metadata": {},
   "outputs": [],
   "source": [
    "plt.figure()\n",
    "plt.title(\"Feature importances\")\n",
    "plt.barh(range(len(Feature_Importance_2018)), Feature_Importance_2018[indices],\n",
    "       color=\"r\", align=\"center\")\n",
    "\n",
    "# If you want to define your own labels,\n",
    "# change indices to a list of labels on the following line.\n",
    "\n",
    "plt.ylim([-1, len(Feature_Importance_2018)])\n",
    "plt.show()"
   ]
  },
  {
   "cell_type": "code",
   "execution_count": null,
   "id": "a8947f37",
   "metadata": {},
   "outputs": [],
   "source": [
    "Feature_Importance_2021 = model_TabNet_2021.feature_importances_\n",
    "indices = np.argsort(Feature_Importance_2021)"
   ]
  },
  {
   "cell_type": "code",
   "execution_count": null,
   "id": "5eb3687d",
   "metadata": {},
   "outputs": [],
   "source": [
    "plt.figure()\n",
    "plt.title(\"Feature importances\")\n",
    "plt.barh(range(len(Feature_Importance_2021)), Feature_Importance_2021[indices],\n",
    "       color=\"r\", align=\"center\")\n",
    "\n",
    "# If you want to define your own labels,\n",
    "# change indices to a list of labels on the following line.\n",
    "\n",
    "plt.ylim([-1, len(Feature_Importance_2021)])\n",
    "plt.show()"
   ]
  }
 ],
 "metadata": {
  "kernelspec": {
   "display_name": "Python 3 (ipykernel)",
   "language": "python",
   "name": "python3"
  },
  "language_info": {
   "codemirror_mode": {
    "name": "ipython",
    "version": 3
   },
   "file_extension": ".py",
   "mimetype": "text/x-python",
   "name": "python",
   "nbconvert_exporter": "python",
   "pygments_lexer": "ipython3",
   "version": "3.9.13"
  }
 },
 "nbformat": 4,
 "nbformat_minor": 5
}
